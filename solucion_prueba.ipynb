{
    "cells": [
        {
            "cell_type": "markdown",
            "id": "c8e5deba",
            "metadata": {},
            "source": [
                "# Solución Prueba - Científico de Datos IA\n",
                "### Andrés Calvete"
            ]
        },
        {
            "cell_type": "markdown",
            "id": "8cb935a4",
            "metadata": {},
            "source": [
                "## Contenido\n",
                "\n",
                "* [A. Preguntas Teóricas.](#a)\n",
                "    * [Explique el concepto de programación orientada a objetos y cómo se aplica en Python.](#a1)\n",
                "    * [¿Qué es el overfitting en un modelo estadístico o de machine learning? ¿Cómo puede evitarse?](#a2)\n",
                "    * [Defina qué es una API REST y mencione sus principales características.](#a3)\n",
                "    * [Explique la diferencia entre series temporales estacionarias y no estacionarias.](#a4)\n",
                "    * [¿Qué son las distribuciones de probabilidad y cuál es su importancia en estadística?](#a5)\n",
                "    * [Describa el principio de inyección de dependencias en desarrollo de software.](#a6)\n",
                "    * [¿Qué es el preprocesamiento de texto en NLP y por qué es importante?](#a7)\n",
                "    * [Explique la diferencia entre un modelo supervisado y uno no supervisado en aprendizaje automático.](#a8)\n",
                "    * [¿Qué es una consulta SQL JOIN y cuáles son sus tipos principales?](#a9)\n",
                "    * [Explique la diferencia entre métodos síncronos y asíncronos en programación.](#a10)\n",
                "* [B. Preguntas Prácticas.](#b)\n",
                "    * [1. Programación en Python (nivel avanzado).](#b1)  \n",
                "        * [Escriba una función en Python que reciba una lista de cadenas y devuelva un diccionario con la frecuencia de cada palabra ignorando mayúsculas y signos de puntuación.](#b1_1)  \n",
                "        * [Implemente un decorador en Python que mida y muestre el tiempo de ejecución de una función.](#b1_2)\n",
                "        * [Dado un dataframe de pandas con columnas 'fecha' y 'ventas', escriba código para calcular el promedio móvil de ventas en una ventana de 7 días.](#b1_3)        \n",
                "    * [2. Protocolos de Comunicación (APIs).](#b2)  \n",
                "        * [Explique cómo funciona el método HTTP POST y cuándo se utiliza en una API REST.](#b2_1)  \n",
                "        * [En Python, ¿cómo se puede realizar una solicitud GET a una API y manejar una respuesta en formato JSON? Escriba un ejemplo básico.](#b2_2)\n",
                "        * [Mencione y explique tres buenas prácticas de seguridad que se deben considerar al desarrollar o consumir APIs.](#b2_3)        \n",
                "    * [3. Manipulación de Texto (NLP).](#b3)   \n",
                "        * [Describa cómo funciona la tokenización en el procesamiento de lenguaje natural y mencione una librería en Python que la implemente.](#b3_1)  \n",
                "        * [Explique qué es el \"stemming\" y cómo se diferencia del \"lemmatization\".](#b3_2)\n",
                "        * [Escriba un fragmento de código en Python que elimine stopwords de un texto dado.](#b3_3)\n",
                "        * [Explique cómo los modelos generativos (GenAI) como GPT pueden ser utilizados para tareas de NLP, y mencione uno o dos casos de uso prácticos en la industria.](#b3_4)\n",
                "    * [4. Manipulación de Datos y Consultas SQL (nivel intermedio-avanzado).](#b4)   \n",
                "        * [Escriba una consulta SQL que utilice una subconsulta correlacionada para obtener, de una tabla 'ventas', los productos cuyo monto de ventas sea superior al promedio mensual de ventas de todos los productos.](#b4_1)  \n",
                "        * [Explique cómo funcionan los índices compuestos en bases de datos y cómo afectan el rendimiento de consultas con múltiples condiciones.](#b4_2)\n",
                "        * [Escriba una consulta SQL que utilice funciones ventana (window functions) para calcular el ranking mensual de ventas por producto en una tabla 'ventas'.](#b4_3)"
            ]
        },
        {
            "cell_type": "markdown",
            "id": "A",
            "metadata": {},
            "source": [
                "## A. Preguntas Teóricas. <a id=\"a\"></a>"
            ]
        },
        {
            "cell_type": "markdown",
            "id": "A1",
            "metadata": {},
            "source": [
                "##### **- Explique el concepto de programación orientada a objetos y cómo se aplica en Python.** <a id='a1'></a> "
            ]
        },
        {
            "cell_type": "markdown",
            "id": "697f1873",
            "metadata": {},
            "source": [
                "La programación orientada a objetos o POO es un paradigma que se utiliza para representar objetos con características, propiedades y comportamientos a través de código.\n",
                "\n",
                "En la ciencia de datos con Python es común su uso para representar modelos de machine learning en donde cada tipo de modelo se puede definir como una **clase**, cada clase puede tener las características que la describen llamadas **atributos** y ejecutar comportamientos específicos llamados **métodos**. Otra característica importante de la POO es que nos permite crear diferentes instancias de una clase, pudiendo definir diferentes características para un mismo tipo de objeto en dos instancias distintas.\n",
                "\n",
                "Por ejemplo, un objeto llamado `LinearRegression` (clase) puede definirse a través de los atributos `m` (pendiente) y `b` (intercepto), también puede ejecutar los métodos ‘predict’ (predice) y ‘describe’ (describe)."
            ]
        },
        {
            "cell_type": "code",
            "execution_count": 1,
            "id": "75483300",
            "metadata": {},
            "outputs": [],
            "source": [
                "class LinearRegression:   \n",
                "    def __init__(self, m: float, b: float):\n",
                "        \"\"\"\n",
                "        Class to represent a linear regression model.\n",
                "        Args:\n",
                "            m (float): Slope of the line.\n",
                "            b (float): Intercept of the line.        \n",
                "        \"\"\"\n",
                "        self.m = m  # Slope\n",
                "        self.b = b  # Intercept\n",
                "\n",
                "    def predict(self, x: float):\n",
                "        \"\"\"\n",
                "        Predicts the value of y for a given x.\n",
                "        Args:\n",
                "            x (float): The input value for prediction.\n",
                "        Returns:\n",
                "            float: The predicted output value.\n",
                "        \"\"\"\n",
                "        return self.m * x + self.b\n",
                "\n",
                "    def describe(self):\n",
                "        \"\"\"\n",
                "        Returns a string description of the model.\n",
                "        Returns:\n",
                "            string: Description of the linear regression model.\n",
                "        \"\"\"\n",
                "        return f\"Model of linear regression: y = {self.m}x + {self.b}\""
            ]
        },
        {
            "cell_type": "markdown",
            "id": "2c70fc74",
            "metadata": {},
            "source": [
                "De esta manera es posible definir un objeto del tipo `LinearRegression` con pendiente `m=1` e intercepto `b=0` en una variable, y en otra instancia definir otro objeto de la misma clase con diferentes atributos (`m=4, b=3`)."
            ]
        },
        {
            "cell_type": "code",
            "execution_count": 2,
            "id": "638ceb5b",
            "metadata": {},
            "outputs": [
                {
                    "name": "stdout",
                    "output_type": "stream",
                    "text": [
                        "Model of linear regression: y = 1x + 0\n",
                        "Model of linear regression: y = 4x + 3\n"
                    ]
                }
            ],
            "source": [
                "# Example usage:\n",
                "model_1 = LinearRegression(1, 0)  # m=1, b=0\n",
                "model_2 = LinearRegression(4, 3)  # m=4, b=3\n",
                "print(model_1.describe())  \n",
                "print(model_2.describe())"
            ]
        },
        {
            "cell_type": "markdown",
            "id": "2e67cb47",
            "metadata": {},
            "source": [
                "#### **- ¿Qué es el overfitting en un modelo estadístico o de machine learning? ¿Cómo puede evitarse?** <a id='a2'></a> "
            ]
        },
        {
            "cell_type": "markdown",
            "id": "2722e512",
            "metadata": {},
            "source": [
                "El sobreajuste (overfitting) es un problema en machine learning que ocurre cuando un modelo se ajusta demasiado a los datos usados en su entrenamiento y pierde la habilidad de generalizar a nuevos datos, es decir, se especifica demasiado a las particularidades del conjunto de entrenamiento que no logra predecir correctamente datos que no ha visto antes. Para identificar el sobreajuste, se puede observar la diferencia del rendimiento del modelo en los datos de entrenamiento y en un conjunto de validación a través de una métrica de evaluación, como el error cuadrático medio (MSE) o la precisión. Si el modelo tiene un rendimiento significativamente mejor en los datos de entrenamiento que en los de validación, es probable que esté sobreajustado.\n",
                "\n",
                "Algunas metodologías para tratar o evitar el sobreajuste son:\n",
                "- Usar regularización para penalizar la complejidad de los modelos: L1/Lasso, L2/Ridge.\n",
                "- Reducir la complejidad del modelo, es decir, usar menos parámetros o modelos más simples (menos estimadores, menos capas, menos profundidad).\n",
                "- Utilizar técnicas de validación cruzada y asegurar que el modelo generaliza bien en distintos subconjuntos de datos.\n",
                "- Realizar una selección de características, lo que significa usar solo las variables más relevantes para reducir el ruido."
            ]
        },
        {
            "cell_type": "markdown",
            "id": "e2944685",
            "metadata": {},
            "source": [
                "#### **- Defina qué es una API REST y mencione sus principales características.** <a id='a3'></a> "
            ]
        },
        {
            "cell_type": "markdown",
            "id": "8fb7421a",
            "metadata": {},
            "source": [
                "Una API REST es un mecanismo de comunicación que permite que diferentes aplicaciones intercambien datos usando el protocolo HTTP. En el ambiente de ciencia de datos se suelen utilizar para consumir datos desde fuentes externas (por ejemplo, datos de criptomonedas, clima, redes sociales), exponer modelos de machine learning como servicios para que otras aplicaciones puedan hacer predicciones en tiempo real o para integrar pipelines de datos con dashboards. Algunas características que definen una API REST son:\n",
                "\n",
                "- Está basada en HTTP, usando métodos estándar como GET, POST, PUT, DELETE.\n",
                "- Ingiere y retorna datos generalmente en formato JSON.\n",
                "- Es accesible mediante URLs (endpoints) en donde cada recurso tiene una dirección única.\n",
                "- Es compatible con múltiples lenguajes. Se puede consumir desde Python, JavaScript, C#, etc."
            ]
        },
        {
            "cell_type": "markdown",
            "id": "a7cd2fd1",
            "metadata": {},
            "source": [
                "#### **- Explique la diferencia entre series temporales estacionarias y no estacionarias.** <a id='a4'></a> "
            ]
        },
        {
            "cell_type": "markdown",
            "id": "0a6b8ae2",
            "metadata": {},
            "source": [
                "Las series temporales son un conjunto de datos que se recopilan a lo largo del tiempo, en donde que cada observación está relacionada con un momento específico y estas se pueden organizar cronológicamente para determinar un comportamiento o tendencia temporal. Dependiendo de si sus propiedades estadísticas cambian o no con el tiempo, se pueden clasificar en estacionarias y no estacionarias.\n",
                "\n",
                "**Serie temporal estacionaria**\n",
                "\n",
                "Una serie es estacionaria si sus propiedades estadísticas no dependen del tiempo, es decir:\n",
                "\n",
                "- Media constante: el promedio no cambia a lo largo del tiempo.\n",
                "\n",
                "- Varianza constante: la dispersión de los valores no cambia.\n",
                "\n",
                "- Autocorrelación estable: la relación entre valores pasados y futuros depende solo del desfase (lag), no del momento en que se mida.\n",
                "\n",
                "**Serie temporal no estacionaria**\n",
                "\n",
                "Una serie no es estacionaria si sus propiedades sí cambian con el tiempo. Esto ocurre, por ejemplo, cuando hay:\n",
                "\n",
                "- Tendencia (creciente o decreciente en el tiempo).\n",
                "\n",
                "- Estacionalidad (patrones que se repiten en ciertos periodos).\n",
                "\n",
                "- Cambios en varianza (volatilidad variable).\n",
                "\n",
                "En otras palabras, una serie estacionaria es fácilmente predecible, mientras que una no estacionaria es más volátil e inconstante. Sin embargo, existen métodos que permiten extraer la estacionalidad de series no estacionarias para analizar algunos patrones, como la descomposición de series temporales. Este es un ejemplo de descomposición en tendencia (serie no estacionaria) y estacionalidad (serie estacionaria) de una serie temporal que describe el número de pedidos de taxis realizados en una aplicación.\n",
                "\n",
                "![image](images\\seasonality.png)"
            ]
        },
        {
            "cell_type": "markdown",
            "id": "6d35b71b",
            "metadata": {},
            "source": [
                "#### **- ¿Qué son las distribuciones de probabilidad y cuál es su importancia en estadística?** <a id='a5'></a> "
            ]
        },
        {
            "cell_type": "markdown",
            "id": "30c23d5e",
            "metadata": {},
            "source": [
                "Una distribución de probabilidad describe cómo se reparten los valores posibles de una variable aleatoria y qué probabilidad tiene cada valor (o rango de valores) de ocurrir. En ciencia de datos y estadística, las distribuciones son clave porque permiten:\n",
                "\n",
                "- Modelar fenómenos y variables como precios, tiempos de espera, errores de medición, etc.\n",
                "- Calcular la probabilidad de que ocurran eventos específicos.\n",
                "- Estimar parámetros y hacer hipótesis sobre poblaciones, también llamado inferencia estadística.\n",
                "- Generar datos artificiales para probar modelos.\n",
                "\n",
                "Dentro de las variables discretas (valores puntuales y contables) podemos encontrar distribuciones como la binomial (probabilidad de éxitos en n intentos) y la de Poisson (número de eventos en un periodo fijo). En el caso de variables continuas (valores infinitos en un intervalo), las distribuciones más comunes son la normal (distribución simétrica con la media en el centro) y uniforme (todos los valores son igualmente probables)."
            ]
        },
        {
            "cell_type": "markdown",
            "id": "1a61f5f2",
            "metadata": {},
            "source": [
                "#### **- Describa el principio de inyección de dependencias en desarrollo de software.** <a id='a6'></a> "
            ]
        },
        {
            "cell_type": "markdown",
            "id": "a55d8ca5",
            "metadata": {},
            "source": [
                "El principio de inyección de dependencias es un patrón de diseño que consiste en proporcionar a una clase sus dependencias en forma de parámetros desde el exterior en lugar de que la propia clase las cree internamente. En otras palabras: la clase no se encarga de construir lo que necesita, sino que recibe esos elementos ya listos, generalmente a través del constructor, métodos o propiedades.\n",
                "\n",
                "Por ejemplo, podemos crear una nueva clase llamada `PedictionService` que recibe un modelo de machine learning como parámetro en su constructor. De esta manera, podemos inyectar diferentes modelos (como los modelos de regresión lineal generados previamente) sin que la clase `PredictionService` tenga que conocer los detalles de cómo se crean esos modelos."
            ]
        },
        {
            "cell_type": "code",
            "execution_count": 3,
            "id": "83502571",
            "metadata": {},
            "outputs": [
                {
                    "name": "stdout",
                    "output_type": "stream",
                    "text": [
                        "Model of linear regression: y = 1x + 0\n",
                        "Prediction for x=10: 10\n"
                    ]
                }
            ],
            "source": [
                "# Example usage of dependency injection\n",
                "class PredictionService:\n",
                "    def __init__(self, model: LinearRegression):\n",
                "        \"\"\"\n",
                "        Initializes the PredictionService with a model.\n",
                "        Args:\n",
                "            model (LinearRegression): An object LinearRegression implementing 'predict' and 'describe' methods.\n",
                "        \"\"\"\n",
                "        self.model = model  # Dependency injection\n",
                "\n",
                "    def make_prediction(self, x: float):\n",
                "        \"\"\"\n",
                "        Makes a prediction using the injected model.\n",
                "        Args:\n",
                "            x (float): The input value for prediction.\n",
                "        Returns:\n",
                "            float: The predicted output value.\n",
                "        \"\"\"\n",
                "        print(self.model.describe())\n",
                "        return self.model.predict(x)\n",
                "\n",
                "def run_predictive_service(service: PredictionService, entry_value: float):\n",
                "    \"\"\"\n",
                "    Runs a service through a given entry_value.\n",
                "    Args:\n",
                "        service (PredictionService): The service used to make the prediction.\n",
                "        entry_value (float): The input value to be predicted.\n",
                "    Returns:\n",
                "        result (float): The service's predicted value.\n",
                "    \"\"\"\n",
                "    result = service.make_prediction(entry_value)\n",
                "    print(f\"Prediction for x={entry_value}: {result}\")\n",
                "    return result\n",
                "\n",
                "\n",
                "# Injecting model_1 into PredictionService (main_service)\n",
                "main_service = PredictionService(model=model_1)\n",
                "\n",
                "# Running a prediction with model_1\n",
                "prediction_1 = run_predictive_service(main_service, 10)"
            ]
        },
        {
            "cell_type": "code",
            "execution_count": 4,
            "id": "abdf1ed7",
            "metadata": {},
            "outputs": [
                {
                    "name": "stdout",
                    "output_type": "stream",
                    "text": [
                        "Model of linear regression: y = 4x + 3\n",
                        "Prediction for x=10: 43\n"
                    ]
                }
            ],
            "source": [
                "# Updating the main_service to use model_2\n",
                "main_service.model = model_2  # Change the injected model\n",
                "\n",
                "# Running a prediction with model_2\n",
                "prediction_2 = run_predictive_service(main_service, 10)"
            ]
        },
        {
            "cell_type": "markdown",
            "id": "d3d98bb0",
            "metadata": {},
            "source": [
                "#### **- ¿Qué es el preprocesamiento de texto en NLP y por qué es importante?** <a id='a7'></a> "
            ]
        },
        {
            "cell_type": "markdown",
            "id": "71a75a79",
            "metadata": {},
            "source": [
                "El preprocesamiento de texto en el ambito del procesamiento de lenguaje natural (NLP), es el conjunto de técnicas que se aplican para limpiar, transformar y normalizar el texto antes de usarlo en modelos de machine learning. El objetivo es convertir el texto crudo en una representación más consistente, básica y útil para que los algoritmos puedan trabajar de forma eficiente y precisa, también ayuda a reducir la dimensionalidad de las características de entrada para los los modelos y a capturar solo la información más relevante.\n",
                "\n",
                "Es importante un buen preprocesamiento de textos ya que las entradas de texto del lenguaje humano pueden:\n",
                "- Tener errores ortográficos, abreviaturas y múltiples formas de decir lo mismo.\n",
                "- Incluir elementos irrelevantes para ciertos análisis (signos de puntuación, stopwords=palabras con poca significancia).\n",
                "- Tener múltiples flexiones, variantes (correr, corriendo, corrí) o sinónimos.\n",
                "\n",
                "Con técnicas de preprocesamiento como las presentadas a continuación es posible trabajar estos problemas y hacer la tarea de entrenamiento más efectiva.\n",
                "- Tokenización: Dividir el texto en listas de palabras o frases.\n",
                "- Lowercasing: Simplificar los texto al pasar todo a minúsculas.\n",
                "- Eliminación de puntuación: Quitar signos que no aportan significado.\n",
                "- Eliminación de stopwords: Retirar palabras muy frecuentes y poco informativas.\n",
                "- Lematización: Reducir palabras a su forma base.\n",
                "- Stemming: Recortar palabras a su raíz.\n",
                "- Normalización de espacios: Eliminar espacios múltiples o saltos de línea.\n",
                "- Eliminación de caracteres especiales: Limpiar símbolos no deseados."
            ]
        },
        {
            "cell_type": "markdown",
            "id": "1ed2dd40",
            "metadata": {},
            "source": [
                "#### **- Explique la diferencia entre un modelo supervisado y uno no supervisado en aprendizaje automático.** <a id='a8'></a> "
            ]
        },
        {
            "cell_type": "markdown",
            "id": "1ad1744e",
            "metadata": {},
            "source": [
                "En machine learning, la diferencia entre un modelo supervisado y uno no supervisado está en sí el entrenamiento se realiza con etiquetas conocidas o sin ellas.\n",
                "\n",
                "**Modelo supervisado**\n",
                "\n",
                "Se entrena con un conjunto de datos que incluye variables de entrada (features) y una variable objetivo (label o target) conocida. Su objetivo es aprender la relación entre entradas y salidas para predecir la etiqueta de nuevos datos. Puede ser de dos tipos basándonos en el tipo de su variable objetivo:\n",
                "\n",
                "- Modelos de clasificación: pretenden predecir una categoría o una variable discreta.\n",
                "\n",
                "- Modelos de regresión: pretenden predecir una variable continua.\n",
                "\n",
                "Algunos algoritmos de entrenamiento usados son:\n",
                "\n",
                "- Regresión lineal.\n",
                "\n",
                "- Árboles de decisión.\n",
                "\n",
                "- Bosques aleatorios.\n",
                "\n",
                "- Descenso del gradiente estocástico.\n",
                "\n",
                "- Redes neuronales convolusionales.\n",
                "\n",
                "**Modelo no supervisado**\n",
                "\n",
                "Se entrena con datos que no tienen etiquetas, es decir, solo se conocen las variables de entrada. Su objetivo es encontrar patrones, estructuras o relaciones ocultas en los datos. El ejemplo más representativo de estos modelos es el clustering, el cual pretende agrupar datos similares en grupos basándose en diferentes algoritmos como K-Means y DBSCAN."
            ]
        },
        {
            "cell_type": "markdown",
            "id": "786e6e3c",
            "metadata": {},
            "source": [
                "#### **- ¿Qué es una consulta SQL JOIN y cuáles son sus tipos principales?** <a id='a9'></a> "
            ]
        },
        {
            "cell_type": "markdown",
            "id": "8e6b9994",
            "metadata": {},
            "source": [
                "Una consulta SQL JOIN se usa para combinar datos de dos o más tablas en una sola consulta, basándose en una columna relacionada entre ellas (generalmente una clave primaria y una clave foránea). Se emplea cuando los datos de interés están distribuidos en múltiples tablas y queremos verlos de forma integrada.\n",
                "\n",
                "| Tipo de JOIN | Descripción |\n",
                "|--------------|-------------|\n",
                "| **INNER JOIN** | Devuelve solo las filas que tienen coincidencia en ambas tablas. |\n",
                "| **LEFT JOIN** | Devuelve todas las filas de la tabla izquierda y las coincidentes de la derecha; si no hay coincidencia, rellena con NULL. |\n",
                "| **RIGHT JOIN** | Devuelve todas las filas de la tabla derecha y las coincidentes de la izquierda; si no hay coincidencia, rellena con NULL. |\n",
                "| **FULL JOIN** | Devuelve todas las filas cuando hay coincidencia en una u otra tabla; donde no haya coincidencia, rellena con NULL. |\n",
                "| **CROSS JOIN** | Devuelve el producto cartesiano: todas las combinaciones posibles de filas entre las tablas. |\n"
            ]
        },
        {
            "cell_type": "markdown",
            "id": "1cdd15b0",
            "metadata": {},
            "source": [
                "#### **- Explique la diferencia entre métodos síncronos y asíncronos en programación.** <a id='a10'></a> "
            ]
        },
        {
            "cell_type": "markdown",
            "id": "c850eccc",
            "metadata": {},
            "source": [
                "En programación, la diferencia entre métodos síncronos y asíncronos está en cómo y cuándo se ejecutan las tareas y si el programa espera su finalización antes de continuar.\n",
                "\n",
                "**Métodos síncronos**\n",
                "\n",
                "El código se ejecuta de forma secuencial. Cada instrucción debe completarse antes de pasar a la siguiente, es decir, que estos métodos bloquean la ejecución hasta que la tarea termina. Pueden provocar que un programa se vuelva lento si una tarea tarda mucho (por ejemplo, esperar respuesta de una API).\n",
                "\n",
                "**Métodos asíncronos**\n",
                "\n",
                "Permiten que el programa no se bloquee mientras una tarea está en ejecución, permitiendo que otras tareas puedan avanzar en paralelo. Se distinguen por el uso de las palabras claves `async` y `await` en Python. Mejoran el rendimiento en aplicaciones que pueden manejar muchas tareas simultáneas.\n",
                "\n",
                "Podemos representar un ejemplo de tarea síncrona en la ejecución del código que ejemplificaba la inyección de dependencias y la programación orientada a objetos. La misma solución de manera asincrónica se vería de la siguiente manera:"
            ]
        },
        {
            "cell_type": "code",
            "execution_count": 5,
            "id": "b35218e0",
            "metadata": {},
            "outputs": [
                {
                    "name": "stdout",
                    "output_type": "stream",
                    "text": [
                        "Prediction for x=10: 21\n",
                        "Prediction for x=20: 41\n",
                        "Prediction for x=30: 61\n"
                    ]
                }
            ],
            "source": [
                "import asyncio\n",
                "\n",
                "# Example async model\n",
                "class AsyncLinearModel:\n",
                "    def __init__(self, m: float, b: float):\n",
                "        \"\"\"\n",
                "        Class to represent a linear regression model with asynchronous prediction.\n",
                "        Args:\n",
                "            m (float): Slope of the line.\n",
                "            b (float): Intercept of the line.    \n",
                "        \"\"\"\n",
                "        self.m = m  \n",
                "        self.b = b  \n",
                "    \n",
                "    async def predict(self, x: float):  # Define the asynchronous task\n",
                "        \"\"\"\n",
                "        Asynchronous predict for the value of y for a given x.\n",
                "        Args:\n",
                "            x (float): The input value for prediction.\n",
                "        Returns:\n",
                "            float: The predicted output value.\n",
                "        \"\"\"\n",
                "        await asyncio.sleep(3) # Simulate a long computation asynchronous\n",
                "        return 2 * x + 1\n",
                "    \n",
                "    def describe(self):\n",
                "        \"\"\"\n",
                "        Returns a string description of the model.\n",
                "        Returns:\n",
                "            string: Description of the linear regression model.\n",
                "        \"\"\"\n",
                "        return f\"Model of async linear regression: y = {self.m}x + {self.b}\"\n",
                "\n",
                "\n",
                "# Service using async dependency injection\n",
                "class AsyncPredictionService:\n",
                "    def __init__(self, model: AsyncLinearModel):\n",
                "        \"\"\"\n",
                "        Initializes the PredictionService with an asynchronous model.\n",
                "        Args:\n",
                "            model (AsyncLinearModel): An object AsyncLinearModel implementing async 'predict' and 'describe'.\n",
                "        \"\"\"\n",
                "        self.model = model\n",
                "\n",
                "    async def make_prediction(self, x: float):\n",
                "        \"\"\"\n",
                "        Makes an asynchronous prediction using the injected model.\n",
                "        Args:\n",
                "            x (float): The input value for prediction.\n",
                "        Returns:\n",
                "            float: The predicted output value.\n",
                "        \"\"\"\n",
                "        return await self.model.predict(x)\n",
                "\n",
                "async def run_predictive_service_async(service: AsyncPredictionService, entry_value: float):\n",
                "    \"\"\"\n",
                "    Runs a predictive service asynchronously.\n",
                "    Args:\n",
                "        service (AsyncPredictionService): The service used to make the prediction.\n",
                "        entry_value (float): The input value to be predicted.\n",
                "    Returns:\n",
                "        result (float): The service's predicted value.\n",
                "    \"\"\"\n",
                "    result = await service.make_prediction(entry_value)\n",
                "    print(f\"Prediction for x={entry_value}: {result}\")\n",
                "    return result\n",
                "\n",
                "\n",
                "# Define the new asynchronous model and service\n",
                "async_model = AsyncLinearModel(m=5, b=-9)\n",
                "async_service = AsyncPredictionService(model=async_model)\n",
                "\n",
                "# Run multiple predictions in parallel\n",
                "predictions_group = await asyncio.gather(\n",
                "    run_predictive_service_async(async_service, 10),\n",
                "    run_predictive_service_async(async_service, 20),\n",
                "    run_predictive_service_async(async_service, 30)\n",
                ")"
            ]
        },
        {
            "cell_type": "markdown",
            "id": "c169cbc3",
            "metadata": {},
            "source": [
                "## B. Preguntas Prácticas. <a id='b'></a> \n"
            ]
        },
        {
            "cell_type": "markdown",
            "id": "262c2914",
            "metadata": {},
            "source": [
                "### 1. Programación en Python (nivel avanzado) <a id='b1'></a> "
            ]
        },
        {
            "cell_type": "markdown",
            "id": "6f5f3858",
            "metadata": {},
            "source": [
                "#### **- Escriba una función en Python que reciba una lista de cadenas y devuelva un diccionario con la frecuencia de cada palabra ignorando mayúsculas y signos de puntuación.** <a id='b1_1'></a> "
            ]
        },
        {
            "cell_type": "markdown",
            "id": "3bfcec81",
            "metadata": {},
            "source": [
                "Este es un proceso común utilizado en el preprocesamiento de textos para introducirlos a modelos de machine learning. Una forma práctica para realizar esta tarea es a través de la función `CountVectorizer` del módulo `feature_extraction.text` en la librería sklearn."
            ]
        },
        {
            "cell_type": "code",
            "execution_count": 6,
            "id": "00779f93",
            "metadata": {},
            "outputs": [],
            "source": [
                "from sklearn.feature_extraction.text import CountVectorizer\n",
                "\n",
                "def word_frequency_sklearn(text_list):\n",
                "    \"\"\"\n",
                "    Calculates the frequency of each word from a list of strings \n",
                "    using scikit-learn's CountVectorizer.\n",
                "    Ignores case and punctuation automatically.\n",
                "    Args:\n",
                "        text_list (list[str]): List of strings to analyze.\n",
                "    Returns:\n",
                "        dict: Dictionary where keys are words (in lowercase)\n",
                "              and values are their frequency count.\n",
                "    \"\"\"\n",
                "    # Initialize CountVectorizer: lowercase, ignore punctuation\n",
                "    vectorizer = CountVectorizer(lowercase=True)\n",
                "    \n",
                "    # Fit and transform text\n",
                "    X = vectorizer.fit_transform(text_list)\n",
                "\n",
                "    # Get words and their counts\n",
                "    words = vectorizer.get_feature_names_out()\n",
                "    counts = X.toarray().sum(axis=0).ravel().tolist()\n",
                "    \n",
                "    return dict(zip(words, counts))"
            ]
        },
        {
            "cell_type": "code",
            "execution_count": 7,
            "id": "72be7198",
            "metadata": {},
            "outputs": [
                {
                    "name": "stdout",
                    "output_type": "stream",
                    "text": [
                        "{'again': 1, 'beautiful': 1, 'hello': 2, 'is': 1, 'the': 1, 'world': 3}\n"
                    ]
                }
            ],
            "source": [
                "# Test 1\n",
                "sentences_1 = [\n",
                "    \"Hello world!\",\n",
                "    \"The world is beautiful.\",\n",
                "    \"HELLO again, world.\"\n",
                "]\n",
                "\n",
                "result_1 = word_frequency_sklearn(sentences_1)\n",
                "print(result_1)"
            ]
        },
        {
            "cell_type": "code",
            "execution_count": 8,
            "id": "27a8d82f",
            "metadata": {},
            "outputs": [
                {
                    "name": "stdout",
                    "output_type": "stream",
                    "text": [
                        "{'asombroso': 1, 'así': 1, 'años': 1, 'ciencia': 2, 'como': 2, 'complejo': 1, 'conocemos': 1, 'de': 4, 'del': 1, 'desde': 1, 'es': 3, 'esta': 1, 'estudia': 2, 'evolución': 1, 'experimenta': 1, 'fenómeno': 1, 'fundamentales': 1, 'física': 1, 'galaxias': 1, 'grandes': 1, 'hasta': 1, 'la': 7, 'las': 4, 'leyes': 1, 'materia': 1, 'miles': 1, 'millones': 1, 'más': 2, 'partículas': 1, 'pequeñas': 1, 'propiedades': 1, 'que': 3, 'química': 1, 'resultado': 1, 'sus': 1, 'tal': 1, 'transformaciones': 1, 'un': 1, 'universo': 1, 'vida': 1}\n"
                    ]
                }
            ],
            "source": [
                "# Test 2\n",
                "sentences_2 = [\n",
                "    \"La vida, tal como la conocemos, es un fenómeno asombroso y complejo, resultado de miles de millones de años de evolución.\",\n",
                "    \"La física es la ciencia que estudia las leyes fundamentales del universo, desde las partículas más pequeñas hasta las galaxias más grandes.\",\n",
                "    \"La química es la ciencia que estudia la materia y sus propiedades, así como las transformaciones que esta experimenta.\"\n",
                "]\n",
                "\n",
                "result_2 = word_frequency_sklearn(sentences_2)\n",
                "print(result_2)"
            ]
        },
        {
            "cell_type": "markdown",
            "id": "8fdca685",
            "metadata": {},
            "source": [
                "#### **- Implemente un decorador en Python que mida y muestre el tiempo de ejecución de una función.** <a id='b1_2'></a> "
            ]
        },
        {
            "cell_type": "code",
            "execution_count": 9,
            "id": "6349cdb3",
            "metadata": {},
            "outputs": [],
            "source": [
                "import time\n",
                "\n",
                "def count_seconds(func):\n",
                "    \"\"\"\n",
                "    Decorator that counts the time taken for a function to execute.\n",
                "    Args:\n",
                "        func (function): The function to be decorated.\n",
                "    Returns:\n",
                "        function: The wrapped function with time counting.\n",
                "    \"\"\"\n",
                "    def inner(*args, **kwargs):\n",
                "        start = time.time()\n",
                "        result = func(*args, **kwargs)\n",
                "        end = time.time()\n",
                "        print(f\"Time taken for {func.__name__}: {end - start:.2f} seconds\")\n",
                "        return result\n",
                "    return inner"
            ]
        },
        {
            "cell_type": "code",
            "execution_count": 10,
            "id": "416afdd5",
            "metadata": {},
            "outputs": [
                {
                    "name": "stdout",
                    "output_type": "stream",
                    "text": [
                        "Model of linear regression: y = 4x + 3\n",
                        "Prediction for x=40: 163\n",
                        "Time taken for run_predictive_service_time_count: 3.00 seconds\n"
                    ]
                }
            ],
            "source": [
                "#Test\n",
                "@count_seconds\n",
                "def run_predictive_service_time_count(service: PredictionService, entry_value: float):\n",
                "    \"\"\"\n",
                "    Runs a predictive service and counts its execution time.\n",
                "    \"\"\"\n",
                "    result = service.make_prediction(entry_value)\n",
                "    time.sleep(3)\n",
                "    print(f\"Prediction for x={entry_value}: {result}\")\n",
                "    return result\n",
                "\n",
                "predictions_3 = run_predictive_service_time_count(main_service, 40)"
            ]
        },
        {
            "cell_type": "markdown",
            "id": "cc9da7dc",
            "metadata": {},
            "source": [
                "#### **- Dado un dataframe de pandas con columnas 'fecha' y 'ventas', escriba código para calcular el promedio móvil de ventas en una ventana de 7 días.** <a id='b1_3'></a> "
            ]
        },
        {
            "cell_type": "code",
            "execution_count": 11,
            "id": "852428ef",
            "metadata": {},
            "outputs": [],
            "source": [
                "import pandas as pd\n",
                "\n",
                "def calculate_sma(time_series, *series, period):\n",
                "    \"\"\"\n",
                "    Calculates the Simple Moving Average (SMA) for one or more series.\n",
                "    \n",
                "    Args:\n",
                "        time_series (list | pd.Series): List or pandas Series of dates.\n",
                "        *series (list | pd.Series): One or more value series to calculate SMA for.\n",
                "        period (int): Window size for the moving average.\n",
                "\n",
                "    Returns:\n",
                "        pd.DataFrame: DataFrame containing the time series and SMA for each input series.\n",
                "    \"\"\"\n",
                "    # Create a base DataFrame\n",
                "    df = pd.DataFrame({'date': pd.to_datetime(time_series)})\n",
                "\n",
                "    # Add each series to the DataFrame and calculate its SMA\n",
                "    for idx, values in enumerate(series, start=1):\n",
                "        col_name = f\"serie_{idx}\"\n",
                "        sma_name = f\"SMA_{period}_serie_{idx}\"\n",
                "        \n",
                "        df[col_name] = values\n",
                "        df[sma_name] = df[col_name].rolling(window=period).mean()\n",
                "\n",
                "    return df"
            ]
        },
        {
            "cell_type": "code",
            "execution_count": 12,
            "id": "428e46ba",
            "metadata": {},
            "outputs": [
                {
                    "data": {
                        "application/vnd.microsoft.datawrangler.viewer.v0+json": {
                            "columns": [
                                {
                                    "name": "index",
                                    "rawType": "int64",
                                    "type": "integer"
                                },
                                {
                                    "name": "fecha",
                                    "rawType": "datetime64[ns]",
                                    "type": "datetime"
                                },
                                {
                                    "name": "ventas",
                                    "rawType": "int32",
                                    "type": "integer"
                                },
                                {
                                    "name": "SMA_7_ventas",
                                    "rawType": "float64",
                                    "type": "float"
                                }
                            ],
                            "ref": "44db75d1-8e93-470d-9f30-48084156aa18",
                            "rows": [
                                [
                                    "20",
                                    "2025-07-21 00:00:00",
                                    "27",
                                    "35.57142857142857"
                                ],
                                [
                                    "21",
                                    "2025-07-22 00:00:00",
                                    "66",
                                    "41.285714285714285"
                                ],
                                [
                                    "22",
                                    "2025-07-23 00:00:00",
                                    "47",
                                    "37.714285714285715"
                                ],
                                [
                                    "23",
                                    "2025-07-24 00:00:00",
                                    "10",
                                    "34.714285714285715"
                                ],
                                [
                                    "24",
                                    "2025-07-25 00:00:00",
                                    "76",
                                    "42.57142857142857"
                                ],
                                [
                                    "25",
                                    "2025-07-26 00:00:00",
                                    "60",
                                    "42.285714285714285"
                                ],
                                [
                                    "26",
                                    "2025-07-27 00:00:00",
                                    "31",
                                    "45.285714285714285"
                                ],
                                [
                                    "27",
                                    "2025-07-28 00:00:00",
                                    "74",
                                    "52.0"
                                ],
                                [
                                    "28",
                                    "2025-07-29 00:00:00",
                                    "40",
                                    "48.285714285714285"
                                ],
                                [
                                    "29",
                                    "2025-07-30 00:00:00",
                                    "48",
                                    "48.42857142857143"
                                ]
                            ],
                            "shape": {
                                "columns": 3,
                                "rows": 10
                            }
                        },
                        "text/html": [
                            "<div>\n",
                            "<style scoped>\n",
                            "    .dataframe tbody tr th:only-of-type {\n",
                            "        vertical-align: middle;\n",
                            "    }\n",
                            "\n",
                            "    .dataframe tbody tr th {\n",
                            "        vertical-align: top;\n",
                            "    }\n",
                            "\n",
                            "    .dataframe thead th {\n",
                            "        text-align: right;\n",
                            "    }\n",
                            "</style>\n",
                            "<table border=\"1\" class=\"dataframe\">\n",
                            "  <thead>\n",
                            "    <tr style=\"text-align: right;\">\n",
                            "      <th></th>\n",
                            "      <th>fecha</th>\n",
                            "      <th>ventas</th>\n",
                            "      <th>SMA_7_ventas</th>\n",
                            "    </tr>\n",
                            "  </thead>\n",
                            "  <tbody>\n",
                            "    <tr>\n",
                            "      <th>20</th>\n",
                            "      <td>2025-07-21</td>\n",
                            "      <td>27</td>\n",
                            "      <td>35.571429</td>\n",
                            "    </tr>\n",
                            "    <tr>\n",
                            "      <th>21</th>\n",
                            "      <td>2025-07-22</td>\n",
                            "      <td>66</td>\n",
                            "      <td>41.285714</td>\n",
                            "    </tr>\n",
                            "    <tr>\n",
                            "      <th>22</th>\n",
                            "      <td>2025-07-23</td>\n",
                            "      <td>47</td>\n",
                            "      <td>37.714286</td>\n",
                            "    </tr>\n",
                            "    <tr>\n",
                            "      <th>23</th>\n",
                            "      <td>2025-07-24</td>\n",
                            "      <td>10</td>\n",
                            "      <td>34.714286</td>\n",
                            "    </tr>\n",
                            "    <tr>\n",
                            "      <th>24</th>\n",
                            "      <td>2025-07-25</td>\n",
                            "      <td>76</td>\n",
                            "      <td>42.571429</td>\n",
                            "    </tr>\n",
                            "    <tr>\n",
                            "      <th>25</th>\n",
                            "      <td>2025-07-26</td>\n",
                            "      <td>60</td>\n",
                            "      <td>42.285714</td>\n",
                            "    </tr>\n",
                            "    <tr>\n",
                            "      <th>26</th>\n",
                            "      <td>2025-07-27</td>\n",
                            "      <td>31</td>\n",
                            "      <td>45.285714</td>\n",
                            "    </tr>\n",
                            "    <tr>\n",
                            "      <th>27</th>\n",
                            "      <td>2025-07-28</td>\n",
                            "      <td>74</td>\n",
                            "      <td>52.000000</td>\n",
                            "    </tr>\n",
                            "    <tr>\n",
                            "      <th>28</th>\n",
                            "      <td>2025-07-29</td>\n",
                            "      <td>40</td>\n",
                            "      <td>48.285714</td>\n",
                            "    </tr>\n",
                            "    <tr>\n",
                            "      <th>29</th>\n",
                            "      <td>2025-07-30</td>\n",
                            "      <td>48</td>\n",
                            "      <td>48.428571</td>\n",
                            "    </tr>\n",
                            "  </tbody>\n",
                            "</table>\n",
                            "</div>"
                        ],
                        "text/plain": [
                            "        fecha  ventas  SMA_7_ventas\n",
                            "20 2025-07-21      27     35.571429\n",
                            "21 2025-07-22      66     41.285714\n",
                            "22 2025-07-23      47     37.714286\n",
                            "23 2025-07-24      10     34.714286\n",
                            "24 2025-07-25      76     42.571429\n",
                            "25 2025-07-26      60     42.285714\n",
                            "26 2025-07-27      31     45.285714\n",
                            "27 2025-07-28      74     52.000000\n",
                            "28 2025-07-29      40     48.285714\n",
                            "29 2025-07-30      48     48.428571"
                        ]
                    },
                    "execution_count": 12,
                    "metadata": {},
                    "output_type": "execute_result"
                }
            ],
            "source": [
                "import numpy as np\n",
                "\n",
                "# Test\n",
                "fecha = pd.date_range(start='2025-07-01', periods=30, freq='D')\n",
                "ventas = np.random.randint(10, 81, size=30)\n",
                "\n",
                "results = calculate_sma(fecha, ventas, period=7)\n",
                "results.columns = ['fecha', 'ventas', 'SMA_7_ventas']\n",
                "\n",
                "results.tail(10)"
            ]
        },
        {
            "cell_type": "markdown",
            "id": "18f9f019",
            "metadata": {},
            "source": [
                "### 2. Protocolos de Comunicación (APIs). <a id='b2'></a> \n"
            ]
        },
        {
            "cell_type": "markdown",
            "id": "45c9a20a",
            "metadata": {},
            "source": [
                "#### **- Explique cómo funciona el método HTTP POST y cuándo se utiliza en una API REST.** <a id='b2_1'></a> "
            ]
        },
        {
            "cell_type": "markdown",
            "id": "76d5d297",
            "metadata": {},
            "source": [
                "El método HTTP POST es uno de los métodos más utilizados en APIs REST y se emplea principalmente para enviar datos al servidor con el objetivo de crear o procesar un recurso. El orden del proceso se puede explicar a través de los siguientes pasos:\n",
                "\n",
                "1. El cliente envía una solicitud POST a la URL del recurso.\n",
                "\n",
                "2. Los datos se incluyen en el cuerpo (body) de la solicitud, normalmente en formatos como JSON o XML.\n",
                "\n",
                "3. El servidor recibe y procesa esos datos.\n",
                "\n",
                "4. El servidor responde normalmente con un código que representa el resultado, por ejemplo, código 200 OK si se procesó correctamente.\n",
                "\n",
                "A continuación se puede ver un ejemplo utilizando Flask y requests como librerías y herramientas para esta tarea."
            ]
        },
        {
            "cell_type": "code",
            "execution_count": null,
            "id": "bda86832",
            "metadata": {},
            "outputs": [],
            "source": [
                "# Server simulator for POST\n",
                "from flask import Flask, jsonify, request\n",
                "from datetime import datetime\n",
                "from flask_cors import CORS\n",
                "\n",
                "app = Flask(__name__)\n",
                "CORS(app)  # Allow access from all origins, use it to control access and security\n",
                "\n",
                "# Global variable to update through POST.\n",
                "current_date = None\n",
                "\n",
                "# Route to update the current date.\n",
                "@app.route('/update-date', methods=['POST'])\n",
                "def update_date():\n",
                "    \"\"\"\n",
                "    Receives a JSON payload with a date string and returns a confirmation message.\n",
                "    Request Body (JSON):\n",
                "        {\n",
                "            \"date\": \"YYYY-MM-DD\"\n",
                "        }\n",
                "    Responses:\n",
                "        200: Date updated successfully.\n",
                "        400: Missing or invalid date format.\n",
                "    \"\"\"\n",
                "    global current_date\n",
                "    data = request.get_json()   # Step 3\n",
                "\n",
                "    if not data or \"date\" not in data:\n",
                "        return jsonify({\"error\": \"Missing 'date' field\"}), 400\n",
                "\n",
                "    try:\n",
                "        datetime.strptime(data[\"date\"], \"%Y-%m-%d\")\n",
                "    except ValueError:\n",
                "        return jsonify({\"error\": \"Invalid date format, use YYYY-MM-DD\"}), 400\n",
                "    \n",
                "    current_date = data[\"date\"]   # Updating the value in the server\n",
                "    \n",
                "    return jsonify({\"message\": \"Date updated successfully\", \"date\": data[\"date\"]}), 200   # Step 4"
            ]
        },
        {
            "cell_type": "code",
            "execution_count": 14,
            "id": "0ab9feac",
            "metadata": {},
            "outputs": [],
            "source": [
                "import requests\n",
                "\n",
                "def send_update_date(current_date: str, server_url: str):\n",
                "    \"\"\"\n",
                "    Sends a POST request to the Flask server with a date string.\n",
                "    Args:\n",
                "        current_date (str): Date in 'YYYY-MM-DD' format.\n",
                "        server_url (str): Base URL of the Flask server.\n",
                "    Returns:\n",
                "        dict: JSON response from the server.\n",
                "    \"\"\"\n",
                "    response = requests.post(f'{server_url}/update-date', json={\"date\": current_date})   # Step 2\n",
                "    \n",
                "    if response.ok:\n",
                "        print(\"Success\", response.json())\n",
                "    else:\n",
                "        print(\"Failed\", response.status_code, response.text)\n",
                "\n",
                "    return response.json()"
            ]
        },
        {
            "cell_type": "markdown",
            "id": "d2c21696",
            "metadata": {},
            "source": [
                "Ahora para realizar ejecutar el método POST solo debemos llamar a las funciones que lo controlan con la información para el cuerpo de la solicitud, de esta manera:\n",
                "```python\n",
                "# Updating date.\n",
                "server_url = 'http://127.0.0.1:5000'\n",
                "send_update_date('2025-08-15', server_url)   # Step 1\n",
                "```"
            ]
        },
        {
            "cell_type": "markdown",
            "id": "12fecdaa",
            "metadata": {},
            "source": [
                "#### **- En Python, ¿cómo se puede realizar una solicitud GET a una API y manejar una respuesta en formato JSON? Escriba un ejemplo básico.** <a id='b2_2'></a>"
            ]
        },
        {
            "cell_type": "markdown",
            "id": "e3e60e70",
            "metadata": {},
            "source": [
                "El método HTTP GET se emplea principalmente para recibir datos del servidor. El orden del proceso se puede explicar a través de los siguientes pasos:\n",
                "\n",
                "1. El cliente envía una solicitud GET a la URL del recurso.\n",
                "\n",
                "2. El servidor recibe la solicitud y empaqueta los datos en formato JSON como respuesta.\n",
                "\n",
                "3. El servidor responde normalmente con un código y un paquete de datos si la solicitud se procesó correctamente.\n",
                "\n",
                "4. Los datos pueden desempaquetarse y leerse como diccionarios.\n",
                "\n",
                "A continuación se puede ver un ejemplo utilizando Flask y requests como librerías y herramientas para esta tarea."
            ]
        },
        {
            "cell_type": "code",
            "execution_count": 15,
            "id": "63fbeaaf",
            "metadata": {},
            "outputs": [],
            "source": [
                "# Append this code to server to simulate a GET method\n",
                "\n",
                "# Route to get the current date.\n",
                "@app.route('/get-date', methods=['GET'])\n",
                "def get_date():\n",
                "    \"\"\"\n",
                "    Returns the current date stored on the server.\n",
                "    If no date is set, returns an error message.\n",
                "    \"\"\"\n",
                "    global current_date\n",
                "    if current_date is None:\n",
                "        return jsonify({\"error\": \"'date' not updated\"}), 400\n",
                "    return jsonify({\"date\": current_date}), 200  # Step 2 and 3"
            ]
        },
        {
            "cell_type": "code",
            "execution_count": 16,
            "id": "12cdf350",
            "metadata": {},
            "outputs": [],
            "source": [
                "def fetch_date(server_url):\n",
                "    \"\"\"\n",
                "    Performs a GET request to the Flask server to retrieve the current date.\n",
                "    Args:\n",
                "        server_url (str): Base URL of the Flask server.\n",
                "    \"\"\"\n",
                "    try:\n",
                "        response = requests.get(f\"{server_url}/get-date\")   # Step 1\n",
                "        if response.status_code == 200:\n",
                "            data = response.json()     # Step 4, Convert from JSON to dict\n",
                "            print(f\"Server date: {data['date']}\")\n",
                "            return data['date']\n",
                "        else:\n",
                "            print(f\"Error {response.status_code}: {response.text}\")\n",
                "            return None\n",
                "    except requests.exceptions.RequestException as e:\n",
                "        print(f\"Request failed: {e}\")\n"
            ]
        },
        {
            "cell_type": "markdown",
            "id": "fcd99f0a",
            "metadata": {},
            "source": [
                "Finalmente, es posible solicitar la fecha almacenada en el servidor ejecutando la función que emplea el método GET, solo se requiere especificar la url del servidor.\n",
                "```python\n",
                "# Getting date\n",
                "current_date = fetch_date(server_url)\n",
                "```"
            ]
        },
        {
            "cell_type": "markdown",
            "id": "6343e590",
            "metadata": {},
            "source": [
                "#### **- Mencione y explique tres buenas prácticas de seguridad que se deben considerar al desarrollar o consumir APIs.** <a id='b2_3'></a>"
            ]
        },
        {
            "cell_type": "markdown",
            "id": "9c587201",
            "metadata": {},
            "source": [
                "**1. Autenticación y autorización seguras.**\n",
                "\n",
                "Implementar mecanismos para verificar que el usuario o sistema que hace la solicitud es quien dice ser (autenticación) y tiene permisos para realizar la acción solicitada (autorización).\n",
                "\n",
                "- Utilizar CORS para la transferencia de datos autorizada.\n",
                "- Usar tokens de acceso (por ejemplo, JWT o OAuth 2.0).\n",
                "- Evitar enviar credenciales en texto plano.\n",
                "- Implementar roles y permisos específicos.\n",
                "\n",
                "**2. Uso de HTTPS para cifrado de datos.**\n",
                "\n",
                "Asegurar que toda la comunicación entre cliente y servidor esté cifrada usando TLS/SSL. Esto impide que atacantes intercepten o modifiquen los datos enviados, protegiendo credenciales, tokens y datos sensibles.\n",
                "\n",
                "- Configurar el servidor para aceptar solo https://.\n",
                "- Redirigir automáticamente cualquier solicitud HTTP a HTTPS.\n",
                "\n",
                "**3. Validación y saneamiento de datos de entrada.**\n",
                "\n",
                "Comprobar que todos los datos recibidos por la API cumplen con el formato, tipo y rango esperado antes de procesarlos. Esto reduce el riesgo de inyección SQL, ejecución de código malicioso o fallos por datos corruptos.\n",
                "\n",
                "- Validar tipos de datos (por ejemplo, fechas, enteros, strings).\n",
                "- Limitar el tamaño máximo de los payloads."
            ]
        },
        {
            "cell_type": "markdown",
            "id": "71719421",
            "metadata": {},
            "source": [
                "### 3. Manipulación de Texto (NLP). <a id='b3'></a>"
            ]
        },
        {
            "cell_type": "markdown",
            "id": "c9e3f2fb",
            "metadata": {},
            "source": [
                "#### **- Describa cómo funciona la tokenización en el procesamiento de lenguaje natural y mencione una librería en Python que la implemente.** <a id='b3_1'></a>"
            ]
        },
        {
            "cell_type": "markdown",
            "id": "7f7bb520",
            "metadata": {},
            "source": [
                "La tokenización en procesamiento de lenguaje natural (NLP) es el proceso de dividir un texto en unidades más pequeñas llamadas tokens. Un token puede ser una palabra, un número, un signo de puntuación o incluso una subpalabra, dependiendo de cómo se defina la segmentación.\n",
                "\n",
                "Para iniciar el proceso de tokenización la entrada de texto se recibe en una cadena de texto continua. Luego se aplica un conjunto de reglas o un modelo estadístico para identificar los límites entre tokens (por ejemplo, espacios, signos de puntuación o patrones lingüísticos). Finalmente, se genera una lista o secuencia de tokens que se usarán para análisis posteriores, como extracción de características o modelado. Aquí tenemos un ejemplo de tokenización usando la librería Natural Language Toolkit (NLTK)."
            ]
        },
        {
            "cell_type": "code",
            "execution_count": null,
            "id": "46dbd7ea",
            "metadata": {},
            "outputs": [],
            "source": [
                "import nltk\n",
                "nltk.download('punkt')\n",
                "nltk.download(\"punkt_tab\")\n",
                "from nltk.tokenize import word_tokenize"
            ]
        },
        {
            "cell_type": "code",
            "execution_count": 12,
            "id": "f8384b96",
            "metadata": {},
            "outputs": [
                {
                    "name": "stdout",
                    "output_type": "stream",
                    "text": [
                        "['Hola', ',', 'el', 'mundo', 'de', 'NLP', 'es', 'fascinante', '.']\n"
                    ]
                }
            ],
            "source": [
                "# Test 1\n",
                "text_1 = \"Hola, el mundo de NLP es fascinante.\"\n",
                "tokens_1 = word_tokenize(text_1)\n",
                "print(tokens_1)"
            ]
        },
        {
            "cell_type": "code",
            "execution_count": 11,
            "id": "aca8cbf4",
            "metadata": {},
            "outputs": [
                {
                    "name": "stdout",
                    "output_type": "stream",
                    "text": [
                        "['All', 'models', 'are', 'wrong', ',', 'but', 'some', 'are', 'useful', '.']\n"
                    ]
                }
            ],
            "source": [
                "# Test 2\n",
                "text_2 = \"All models are wrong, but some are useful.\"\n",
                "tokens_2 = word_tokenize(text_2)\n",
                "print(tokens_2)"
            ]
        },
        {
            "cell_type": "markdown",
            "id": "7d88f31e",
            "metadata": {},
            "source": [
                "#### **- Explique qué es el \"stemming\" y cómo se diferencia del \"lemmatization\".** <a id='b3_2'></a>"
            ]
        },
        {
            "cell_type": "markdown",
            "id": "e9817819",
            "metadata": {},
            "source": [
                "En el procesamiento de lenguaje natural (NLP), stemming y lematización son técnicas para reducir las palabras a una forma base, pero lo hacen de maneras distintas:\n",
                "\n",
                "El Stemming corta los sufijos o prefijos de las palabras para obtener su “raíz” (stem), sin preocuparse por si la raíz resultante es una palabra real. Su ventaja es que es rápido y computacionalmente barato. Su principal desventaja radica en que puede generar “raíces” que no existen como palabras correctas en el idioma.\n",
                "\n",
                "La lematización reduce las palabras a su lema (forma base válida en el diccionario) considerando el significado y la gramática. Usa diccionarios, análisis morfológico y, a veces, información del contexto (parte de la oración: sustantivo, verbo, adjetivo, etc.). Su ventaja es que produce palabras reales y correctas, pero, a cambio, es más lento y requiere más recursos."
            ]
        },
        {
            "cell_type": "code",
            "execution_count": null,
            "id": "75ac6c12",
            "metadata": {},
            "outputs": [],
            "source": [
                "from nltk.stem import PorterStemmer\n",
                "from nltk.stem import WordNetLemmatizer\n",
                "nltk.download('wordnet')\n",
                "nltk.download('omw-1.4')"
            ]
        },
        {
            "cell_type": "code",
            "execution_count": 17,
            "id": "785a8db0",
            "metadata": {},
            "outputs": [
                {
                    "name": "stdout",
                    "output_type": "stream",
                    "text": [
                        "['all', 'model', 'are', 'wrong', ',', 'but', 'some', 'are', 'use', '.']\n"
                    ]
                }
            ],
            "source": [
                "# Example using stemming\n",
                "stemmer = PorterStemmer()\n",
                "\n",
                "stem_tokens_2 = []\n",
                "for word in tokens_2:\n",
                "    stemmed = stemmer.stem(word)\n",
                "    stem_tokens_2.append(stemmed)\n",
                "\n",
                "print(stem_tokens_2)"
            ]
        },
        {
            "cell_type": "code",
            "execution_count": 18,
            "id": "a74dd6aa",
            "metadata": {},
            "outputs": [
                {
                    "name": "stdout",
                    "output_type": "stream",
                    "text": [
                        "['All', 'model', 'are', 'wrong', ',', 'but', 'some', 'are', 'useful', '.']\n"
                    ]
                }
            ],
            "source": [
                "# Example using lemmatization\n",
                "lemmatizer = WordNetLemmatizer()\n",
                "\n",
                "lemma_tokens_2 = []\n",
                "for word in tokens_2:\n",
                "    lemmatized = lemmatizer.lemmatize(word)\n",
                "    lemma_tokens_2.append(lemmatized)\n",
                "\n",
                "print(lemma_tokens_2)"
            ]
        },
        {
            "cell_type": "markdown",
            "id": "478758e2",
            "metadata": {},
            "source": [
                "#### **- Escriba un fragmento de código en Python que elimine stopwords de un texto dado.** <a id='b3_3'></a>"
            ]
        },
        {
            "cell_type": "code",
            "execution_count": null,
            "id": "f3488eda",
            "metadata": {},
            "outputs": [],
            "source": [
                "from nltk.corpus import stopwords\n",
                "nltk.download('stopwords')"
            ]
        },
        {
            "cell_type": "code",
            "execution_count": 20,
            "id": "e8173404",
            "metadata": {},
            "outputs": [
                {
                    "name": "stdout",
                    "output_type": "stream",
                    "text": [
                        "Original text: All models are wrong, but some are useful.\n",
                        "Tokens filtered: ['All', 'model', 'wrong', 'useful']\n"
                    ]
                }
            ],
            "source": [
                "# Stopwords list\n",
                "stop_words = set(stopwords.words('english'))\n",
                "\n",
                "# Filter stopwords\n",
                "tokens_2_filted = [word for word in lemma_tokens_2 if word not in stop_words and word.isalpha()]\n",
                "\n",
                "print(\"Original text:\", text_2)\n",
                "print(\"Tokens filtered:\", tokens_2_filted)"
            ]
        },
        {
            "cell_type": "markdown",
            "id": "4efb1f69",
            "metadata": {},
            "source": [
                "#### **- Explique cómo los modelos generativos (GenAI) como GPT pueden ser utilizados para tareas de NLP, y mencione uno o dos casos de uso prácticos en la industria.** <a id='b3_4'></a>"
            ]
        },
        {
            "cell_type": "markdown",
            "id": "d53f32f1",
            "metadata": {},
            "source": [
                "Los modelos generativos como GPT (Generative Pre-trained Transformer) son redes neuronales entrenadas para predecir la siguiente palabra en una secuencia de texto, lo que les permite generar contenido coherente y contextual en lenguaje natural. Estos modelos se entrenan con enormes volúmenes de texto para aprender patrones lingüísticos, gramática, estilo y relaciones semánticas; una vez entrenados, pueden entender y producir lenguaje humano a partir de un prompt o instrucción. Algunos casos de uso práctico en la industria son:\n",
                "\n",
                "**Atención al cliente automatizada:** chatbots avanzados que responden en tiempo real con contexto histórico del cliente.\n",
                "\n",
                "**Asistentes de productividad y generación de contenido:** redacción automática de reportes, descripciones de productos, campañas de marketing o documentación técnica."
            ]
        },
        {
            "cell_type": "markdown",
            "id": "8e287bd3",
            "metadata": {},
            "source": [
                "### 4. Manipulación de Datos y Consultas SQL (nivel intermedio-avanzado). <a id='b4'></a>"
            ]
        },
        {
            "cell_type": "markdown",
            "id": "85ecd69e",
            "metadata": {},
            "source": [
                "#### **- Escriba una consulta SQL que utilice una subconsulta correlacionada para obtener, de una tabla 'ventas', los productos cuyo monto de ventas sea superior al promedio mensual de ventas de todos los productos.** <a id='b4_1'></a>"
            ]
        },
        {
            "cell_type": "markdown",
            "id": "932aea0f",
            "metadata": {},
            "source": [
                "Dada la tabla 'ventas' a continuación:\n",
                "\n",
                "| producto_id | mes | monto_venta |\n",
                "|--------------|-------------|-------------|\n",
                "| 0000 | 1 | 20 |\n",
                "| 0000 | 2 | 40 |\n",
                "| 0001 | 1 | 50 |\n",
                "| 0001 | 2 | 80 |\n",
                "\n",
                "\n",
                "Es posible cumplir con la petición con el siguiente query:\n",
                "\n",
                "```SQL\n",
                "SELECT DISTINCT v.producto_id\n",
                "FROM ventas v\n",
                "WHERE v.monto_venta > (\n",
                "    SELECT AVG(v2.monto_venta)\n",
                "    FROM ventas v2\n",
                "    WHERE v2.mes = v.mes\n",
                ");\n",
                "```"
            ]
        },
        {
            "cell_type": "markdown",
            "id": "8361acd5",
            "metadata": {},
            "source": [
                "\n",
                "Primero en la subconsulta correlacionada calculamos el promedio de ventas del mes actual (v.mes) para todos los productos. Luego se comparan las ventas del producto (v.monto_venta) con el promedio de su mismo mes. Finalmente, DISTINCT evita repetir productos si hay varios registros que cumplen la condición."
            ]
        },
        {
            "cell_type": "markdown",
            "id": "7342376e",
            "metadata": {},
            "source": [
                "#### **- Explique cómo funcionan los índices compuestos en bases de datos y cómo afectan el rendimiento de consultas con múltiples condiciones.** <a id='b4_2'></a>"
            ]
        },
        {
            "cell_type": "markdown",
            "id": "ed05baf0",
            "metadata": {},
            "source": [
                "Un índice compuesto es un índice que abarca dos o más columnas de una tabla en una base de datos relacional. En lugar de indexar cada columna por separado, el motor de base de datos crea una estructura de búsqueda que ordena los registros combinando los valores de las columnas en el orden en que se definió el índice.\n",
                "\n",
                "Este es un ejemplo de como crear un índice compuesto sobre las columnas `producto_id` y `mes`.\n",
                "\n",
                "```SQL\n",
                "CREATE INDEX idx_producto_mes\n",
                "ON ventas (producto_id, mes);\n",
                "```\n",
                "\n",
                "Esto significa que el índice está ordenado primero por producto_id y, dentro de cada producto, por mes. El motor puede usarlo de manera eficiente para consultas que filtran por:\n",
                "\n",
                "- Ambas columnas en el orden del índice:\n",
                "\n",
                "```SQL\n",
                "SELECT * FROM ventas\n",
                "WHERE producto_id = '0001' AND mes > 1;\n",
                "```\n",
                "\n",
                "- Solo la primera columna:\n",
                "\n",
                "```SQL\n",
                "SELECT * FROM ventas\n",
                "WHERE producto_id = '0001';\n",
                "```\n",
                "\n",
                "Pero no será igual de eficiente si filtras solo por la segunda columna (mes) sin incluir la primera (producto_id), porque la organización del índice depende del orden definido.\n",
                "\n",
                "Su principal ventajas recide en que acelera consultas con múltiples condiciones que siguen el orden de las columnas en el índice. Si la mayoría de las consultas usan varias columnas juntas en condiciones WHERE o ORDER BY, un índice compuesto puede ser muy beneficioso. Sin embargo, el orden de las columnas es crítico, por lo que poner primero la columna más selectiva es importante. También, un índice compuesto ocupa más espacio y requiere más tiempo para INSERT, UPDATE o DELETE."
            ]
        },
        {
            "cell_type": "markdown",
            "id": "8b235aa8",
            "metadata": {},
            "source": [
                "#### **- Escriba una consulta SQL que utilice funciones ventana (window functions) para calcular el ranking mensual de ventas por producto en una tabla 'ventas'.** <a id='b4_3'></a>"
            ]
        },
        {
            "cell_type": "markdown",
            "id": "6bcda56c",
            "metadata": {},
            "source": [
                "Basandonos en la misma tabla, podríamos dar solución al problema con el siguiente query:\n",
                "\n",
                "```SQL\n",
                "SELECT\n",
                "    producto_id,\n",
                "    mes,\n",
                "    monto_venta,\n",
                "    RANK() OVER (\n",
                "        PARTITION BY mes\n",
                "        ORDER BY monto_venta DESC\n",
                "    ) AS ranking_mensual\n",
                "FROM ventas\n",
                "ORDER BY mes, ranking_mensual;\n",
                "```\n",
                "\n",
                "Primero `PARTITION BY mes` reinicia el ranking para cada mes, luego `ORDER BY monto_venta DESC` organiza el producto con mayor venta en ese mes en la parte superior y va descendiendo. Finalmente `RANK()` asigna el numero del ranking por mes."
            ]
        }
    ],
    "metadata": {
        "kernelspec": {
            "display_name": "Python 3",
            "language": "python",
            "name": "python3"
        },
        "language_info": {
            "codemirror_mode": {
                "name": "ipython",
                "version": 3
            },
            "file_extension": ".py",
            "mimetype": "text/x-python",
            "name": "python",
            "nbconvert_exporter": "python",
            "pygments_lexer": "ipython3",
            "version": "3.12.8"
        }
    },
    "nbformat": 4,
    "nbformat_minor": 5
}
