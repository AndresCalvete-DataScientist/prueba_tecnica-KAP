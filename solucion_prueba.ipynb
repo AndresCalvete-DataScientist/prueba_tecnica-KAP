{
 "cells": [
  {
   "cell_type": "markdown",
   "id": "c8e5deba",
   "metadata": {},
   "source": [
    "# Solución Prueba - Científico de Datos IA\n",
    "### Andrés Calvete"
   ]
  },
  {
   "cell_type": "markdown",
   "id": "8cb935a4",
   "metadata": {},
   "source": [
    "## Contenido\n",
    "\n",
    "* [A. Preguntas Teóricas.](#A)\n",
    "    * [Explique el concepto de programación orientada a objetos y cómo se aplica en Python.](#A1)\n",
    "    * [¿Qué es el overfitting en un modelo estadístico o de machine learning? ¿Cómo puede evitarse?](#A2)\n",
    "    * [Defina qué es una API REST y mencione sus principales características.](#A3)\n",
    "    * [Explique la diferencia entre series temporales estacionarias y no estacionarias.](#A4)\n",
    "    * [¿Qué son las distribuciones de probabilidad y cuál es su importancia en estadística?](#A5)\n",
    "    * [Describa el principio de inyección de dependencias en desarrollo de software.](#A6)\n",
    "    * [¿Qué es el preprocesamiento de texto en NLP y por qué es importante?](#A7)\n",
    "    * [Explique la diferencia entre un modelo supervisado y uno no supervisado en aprendizaje automático.](#A8)\n",
    "    * [¿Qué es una consulta SQL JOIN y cuáles son sus tipos principales?](#A9)\n",
    "    * [Explique la diferencia entre métodos síncronos y asíncronos en programación.](#A10)\n",
    "* [B. Preguntas Prácticas.](#B)\n",
    "    * [1. Programación en Python (nivel avanzado).](#B1)  \n",
    "        * [Escriba una función en Python que reciba una lista de cadenas y devuelva un diccionario con la frecuencia de cada palabra ignorando mayúsculas y signos de puntuación.](#B1-1)  \n",
    "        * [Implemente un decorador en Python que mida y muestre el tiempo de ejecución de una función.](#B1-2)\n",
    "        * [Dado un dataframe de pandas con columnas 'fecha' y 'ventas', escriba código para calcular el promedio móvil de ventas en una ventana de 7 días.](#B1-3)        \n",
    "    * [2. Protocolos de Comunicación (APIs).](#B2)  \n",
    "        * [Explique cómo funciona el método HTTP POST y cuándo se utiliza en una API REST.](#B2-1)  \n",
    "        * [En Python, ¿cómo se puede realizar una solicitud GET a una API y manejar una respuesta en formato JSON? Escriba un ejemplo básico.](#B2-2)\n",
    "        * [Mencione y explique tres buenas prácticas de seguridad que se deben considerar al desarrollar o consumir APIs.](#B2-3)        \n",
    "    * [3. Manipulación de Texto (NLP).](#B3)   \n",
    "        * [Describa cómo funciona la tokenización en el procesamiento de lenguaje natural y mencione una librería en Python que la implemente.](#B3-1)  \n",
    "        * [Explique qué es el \"stemming\" y cómo se diferencia del \"lemmatization\".](#B3-2)\n",
    "        * [Escriba un fragmento de código en Python que elimine stopwords de un texto dado.](#B3-3)\n",
    "        * [Explique cómo los modelos generativos (GenAI) como GPT pueden ser utilizados para tareas de NLP, y mencione uno o dos casos de uso prácticos en la industria.](#B3-4)\n",
    "    * [4. Manipulación de Datos y Consultas SQL (nivel intermedio-avanzado).](#B4)   \n",
    "        * [Escriba una consulta SQL que utilice una subconsulta correlacionada para obtener, de una tabla 'ventas', los productos cuyo monto de ventas sea superior al promedio mensual de ventas de todos los productos.](#B4-1)  \n",
    "        * [Explique cómo funcionan los índices compuestos en bases de datos y cómo afectan el rendimiento de consultas con múltiples condiciones.](#B4-2)\n",
    "        * [Escriba una consulta SQL que utilice funciones ventana (window functions) para calcular el ranking mensual de ventas por producto en una tabla 'ventas'.](#B4-3)"
   ]
  },
  {
   "cell_type": "markdown",
   "id": "b30ed6bf",
   "metadata": {},
   "source": [
    "## A. Preguntas Teóricas. <a id=\"A\"></a>"
   ]
  },
  {
   "cell_type": "markdown",
   "id": "324c5ae1",
   "metadata": {},
   "source": [
    "##### **- Explique el concepto de programación orientada a objetos y cómo se aplica en Python.** <a id='A1'></a> "
   ]
  },
  {
   "cell_type": "markdown",
   "id": "697f1873",
   "metadata": {},
   "source": [
    "La programación orientada a objetos o POO es un paradigma que se utiliza para representar objetos con características, propiedades y comportamientos a través de código.\n",
    "\n",
    "En la ciencia de datos con Python es común su uso para representar modelos de machine learning en donde cada tipo de modelo se puede definir como una **clase**, cada clase puede tener las características que la describen llamadas **atributos** y ejecutar comportamientos específicos llamados **métodos**. Otra característica importante de la POO es que nos permite crear diferentes instancias de una clase, pudiendo definir diferentes características para un mismo tipo de objeto en dos instancias distintas.\n",
    "\n",
    "Por ejemplo, un objeto llamado `LinearRegression` (clase) puede definirse a través de los atributos `m` (pendiente) y `b` (intercepto), también puede ejecutar los métodos ‘predict’ (predice) y ‘describe’ (describe)."
   ]
  },
  {
   "cell_type": "code",
   "execution_count": 1,
   "id": "75483300",
   "metadata": {},
   "outputs": [],
   "source": [
    "class LinearRegression:   \n",
    "    def __init__(self, m: float, b: float):\n",
    "        \"\"\"\n",
    "        Class to represent a linear regression model.\n",
    "        Args:\n",
    "            m (float): Slope of the line.\n",
    "            b (float): Intercept of the line.        \n",
    "        \"\"\"\n",
    "        self.m = m  # Slope\n",
    "        self.b = b  # Intercept\n",
    "\n",
    "    def predict(self, x: float):\n",
    "        \"\"\"\n",
    "        Predicts the value of y for a given x.\n",
    "        Args:\n",
    "            x (float): The input value for prediction.\n",
    "        Returns:\n",
    "            float: The predicted output value.\n",
    "        \"\"\"\n",
    "        return self.m * x + self.b\n",
    "\n",
    "    def describe(self):\n",
    "        \"\"\"\n",
    "        Returns a string description of the model.\n",
    "        Returns:\n",
    "            string: Description of the linear regression model.\n",
    "        \"\"\"\n",
    "        return f\"Model of linear regression: y = {self.m}x + {self.b}\""
   ]
  },
  {
   "cell_type": "markdown",
   "id": "2c70fc74",
   "metadata": {},
   "source": [
    "De esta manera es posible definir un objeto del tipo `LinearRegression` con pendiente `m=1` e intercepto `b=0` en una variable, y en otra instancia definir otro objeto de la misma clase con diferentes atributos (`m=4, b=3`)."
   ]
  },
  {
   "cell_type": "code",
   "execution_count": 18,
   "id": "638ceb5b",
   "metadata": {},
   "outputs": [
    {
     "name": "stdout",
     "output_type": "stream",
     "text": [
      "Model of linear regression: y = 1x + 0\n",
      "Model of linear regression: y = 4x + 3\n"
     ]
    }
   ],
   "source": [
    "# Example usage:\n",
    "model_1 = LinearRegression(1, 0)  # m=1, b=0\n",
    "model_2 = LinearRegression(4, 3)  # m=4, b=3\n",
    "print(model_1.describe())  \n",
    "print(model_2.describe())"
   ]
  },
  {
   "cell_type": "markdown",
   "id": "2e67cb47",
   "metadata": {},
   "source": [
    "#### **- ¿Qué es el overfitting en un modelo estadístico o de machine learning? ¿Cómo puede evitarse?** <a id='A2'></a> "
   ]
  },
  {
   "cell_type": "markdown",
   "id": "2722e512",
   "metadata": {},
   "source": [
    "El sobreajuste (overfitting) es un problema en machine learning que ocurre cuando un modelo se ajusta demasiado a los datos usados en su entrenamiento y pierde la habilidad de generalizar a nuevos datos, es decir, se especifica demasiado a las particularidades del conjunto de entrenamiento que no logra predecir correctamente datos que no ha visto antes. Para identificar el sobreajuste, se puede observar la diferencia del rendimiento del modelo en los datos de entrenamiento y en un conjunto de validación a través de una métrica de evaluación, como el error cuadrático medio (MSE) o la precisión. Si el modelo tiene un rendimiento significativamente mejor en los datos de entrenamiento que en los de validación, es probable que esté sobreajustado.\n",
    "\n",
    "Algunas metodologías para tratar o evitar el sobreajuste son:\n",
    "- Usar regularización para penalizar la complejidad de los modelos: L1/Lasso, L2/Ridge.\n",
    "- Reducir la complejidad del modelo, es decir, usar menos parámetros o modelos más simples (menos estimadores, menos capas, menos profundidad).\n",
    "- Utilizar técnicas de validación cruzada y asegurar que el modelo generaliza bien en distintos subconjuntos de datos.\n",
    "- Realizar una selección de características, lo que significa usar solo las variables más relevantes para reducir el ruido."
   ]
  },
  {
   "cell_type": "markdown",
   "id": "e2944685",
   "metadata": {},
   "source": [
    "#### **- Defina qué es una API REST y mencione sus principales características.** <a id='A3'></a> "
   ]
  },
  {
   "cell_type": "markdown",
   "id": "8fb7421a",
   "metadata": {},
   "source": [
    "Una API REST es un mecanismo de comunicación que permite que diferentes aplicaciones intercambien datos usando el protocolo HTTP. En el ambiente de ciencia de datos se suelen utilizar para consumir datos desde fuentes externas (por ejemplo, datos de criptomonedas, clima, redes sociales), exponer modelos de machine learning como servicios para que otras aplicaciones puedan hacer predicciones en tiempo real o para integrar pipelines de datos con dashboards. Algunas características que definen una API REST son:\n",
    "\n",
    "- Está basada en HTTP, usando métodos estándar como GET, POST, PUT, DELETE.\n",
    "- Ingiere y retorna datos generalmente en formato JSON.\n",
    "- Es accesible mediante URLs (endpoints) en donde cada recurso tiene una dirección única.\n",
    "- Es compatible con múltiples lenguajes. Se puede consumir desde Python, JavaScript, C#, etc."
   ]
  },
  {
   "cell_type": "markdown",
   "id": "a7cd2fd1",
   "metadata": {},
   "source": [
    "#### **- Explique la diferencia entre series temporales estacionarias y no estacionarias.** <a id='A4'></a> "
   ]
  },
  {
   "cell_type": "markdown",
   "id": "0a6b8ae2",
   "metadata": {},
   "source": [
    "Las series temporales son un conjunto de datos que se recopilan a lo largo del tiempo, en donde que cada observación está relacionada con un momento específico y estas se pueden organizar cronológicamente para determinar un comportamiento o tendencia temporal. Dependiendo de si sus propiedades estadísticas cambian o no con el tiempo, se pueden clasificar en estacionarias y no estacionarias.\n",
    "\n",
    "**Serie temporal estacionaria**\n",
    "\n",
    "Una serie es estacionaria si sus propiedades estadísticas no dependen del tiempo, es decir:\n",
    "\n",
    "- Media constante: el promedio no cambia a lo largo del tiempo.\n",
    "\n",
    "- Varianza constante: la dispersión de los valores no cambia.\n",
    "\n",
    "- Autocorrelación estable: la relación entre valores pasados y futuros depende solo del desfase (lag), no del momento en que se mida.\n",
    "\n",
    "**Serie temporal no estacionaria**\n",
    "\n",
    "Una serie no es estacionaria si sus propiedades sí cambian con el tiempo. Esto ocurre, por ejemplo, cuando hay:\n",
    "\n",
    "- Tendencia (creciente o decreciente en el tiempo).\n",
    "\n",
    "- Estacionalidad (patrones que se repiten en ciertos periodos).\n",
    "\n",
    "- Cambios en varianza (volatilidad variable).\n",
    "\n",
    "En otras palabras, una serie estacionaria es fácilmente predecible, mientras que una no estacionaria es más volátil e inconstante. Sin embargo, existen métodos que permiten extraer la estacionalidad de series no estacionarias para analizar algunos patrones, como la descomposición de series temporales. Este es un ejemplo de descomposición en tendencia (serie no estacionaria) y estacionalidad (serie estacionaria) de una serie temporal que describe el número de pedidos de taxis realizados en una aplicación.\n",
    "\n",
    "![image](images\\seasonality.png)"
   ]
  },
  {
   "cell_type": "markdown",
   "id": "6d35b71b",
   "metadata": {},
   "source": [
    "#### **- ¿Qué son las distribuciones de probabilidad y cuál es su importancia en estadística?** <a id='A5'></a> "
   ]
  },
  {
   "cell_type": "markdown",
   "id": "30c23d5e",
   "metadata": {},
   "source": [
    "Una distribución de probabilidad describe cómo se reparten los valores posibles de una variable aleatoria y qué probabilidad tiene cada valor (o rango de valores) de ocurrir. En ciencia de datos y estadística, las distribuciones son clave porque permiten:\n",
    "\n",
    "- Modelar fenómenos y variables como precios, tiempos de espera, errores de medición, etc.\n",
    "- Calcular la probabilidad de que ocurran eventos específicos.\n",
    "- Estimar parámetros y hacer hipótesis sobre poblaciones, también llamado inferencia estadística.\n",
    "- Generar datos artificiales para probar modelos.\n",
    "\n",
    "Dentro de las variables discretas (valores puntuales y contables) podemos encontrar distribuciones como la binomial (probabilidad de éxitos en n intentos) y la de Poisson (número de eventos en un periodo fijo). En el caso de variables continuas (valores infinitos en un intervalo), las distribuciones más comunes son la normal (distribución simétrica con la media en el centro) y uniforme (todos los valores son igualmente probables)."
   ]
  },
  {
   "cell_type": "markdown",
   "id": "1a61f5f2",
   "metadata": {},
   "source": [
    "#### **- Describa el principio de inyección de dependencias en desarrollo de software.** <a id='A6'></a> "
   ]
  },
  {
   "cell_type": "markdown",
   "id": "a55d8ca5",
   "metadata": {},
   "source": [
    "El principio de inyección de dependencias es un patrón de diseño que consiste en proporcionar a una clase sus dependencias en forma de parámetros desde el exterior en lugar de que la propia clase las cree internamente. En otras palabras: la clase no se encarga de construir lo que necesita, sino que recibe esos elementos ya listos, generalmente a través del constructor, métodos o propiedades.\n",
    "\n",
    "Por ejemplo, podemos crear una nueva clase llamada `PedictionService` que recibe un modelo de machine learning como parámetro en su constructor. De esta manera, podemos inyectar diferentes modelos (como los modelos de regresión lineal generados previamente) sin que la clase `PredictionService` tenga que conocer los detalles de cómo se crean esos modelos."
   ]
  },
  {
   "cell_type": "code",
   "execution_count": null,
   "id": "83502571",
   "metadata": {},
   "outputs": [
    {
     "name": "stdout",
     "output_type": "stream",
     "text": [
      "Model of linear regression: y = 1x + 0\n",
      "Prediction for x=10: 10\n"
     ]
    }
   ],
   "source": [
    "# Example usage of dependency injection\n",
    "class PredictionService:\n",
    "    def __init__(self, model: LinearRegression):\n",
    "        \"\"\"\n",
    "        Initializes the PredictionService with a model.\n",
    "        Args:\n",
    "            model (LinearRegression): An object LinearRegression implementing 'predict' and 'describe' methods.\n",
    "        \"\"\"\n",
    "        self.model = model  # Dependency injection\n",
    "\n",
    "    def make_prediction(self, x: float):\n",
    "        \"\"\"\n",
    "        Makes a prediction using the injected model.\n",
    "        Args:\n",
    "            x (float): The input value for prediction.\n",
    "        Returns:\n",
    "            float: The predicted output value.\n",
    "        \"\"\"\n",
    "        print(self.model.describe())\n",
    "        return self.model.predict(x)\n",
    "\n",
    "def run_predictive_service(service: PredictionService, entry_value: float):\n",
    "    \"\"\"\n",
    "    Runs a service through a given entry_value.\n",
    "    Args:\n",
    "        service (PredictionService): The service used to make the prediction.\n",
    "        entry_value (float): The input value to be predicted.\n",
    "    Returns:\n",
    "        result (float): The service's predicted value.\n",
    "    \"\"\"\n",
    "    result = service.make_prediction(entry_value)\n",
    "    print(f\"Prediction for x={entry_value}: {result}\")\n",
    "    return result\n",
    "\n",
    "\n",
    "# Injecting model_1 into PredictionService (main_service)\n",
    "main_service = PredictionService(model=model_1)\n",
    "\n",
    "# Running a prediction with model_1\n",
    "prediction_1 = run_predictive_service(main_service, 10)"
   ]
  },
  {
   "cell_type": "code",
   "execution_count": 16,
   "id": "abdf1ed7",
   "metadata": {},
   "outputs": [
    {
     "name": "stdout",
     "output_type": "stream",
     "text": [
      "Model of linear regression: y = 4x + 3\n",
      "Prediction for x=10: 43\n"
     ]
    }
   ],
   "source": [
    "# Updating the main_service to use model_2\n",
    "main_service.model = model_2  # Change the injected model\n",
    "\n",
    "# Running a prediction with model_2\n",
    "prediction_2 = run_predictive_service(main_service, 10)"
   ]
  },
  {
   "cell_type": "markdown",
   "id": "d3d98bb0",
   "metadata": {},
   "source": [
    "#### **- ¿Qué es el preprocesamiento de texto en NLP y por qué es importante?** <a id='A7'></a> "
   ]
  },
  {
   "cell_type": "markdown",
   "id": "71a75a79",
   "metadata": {},
   "source": [
    "El preprocesamiento de texto en el ambito del procesamiento de lenguaje natural (NLP), es el conjunto de técnicas que se aplican para limpiar, transformar y normalizar el texto antes de usarlo en modelos de machine learning. El objetivo es convertir el texto crudo en una representación más consistente, básica y útil para que los algoritmos puedan trabajar de forma eficiente y precisa, también ayuda a reducir la dimensionalidad de las características de entrada para los los modelos y a capturar solo la información más relevante.\n",
    "\n",
    "Es importante un buen preprocesamiento de textos ya que las entradas de texto del lenguaje humano pueden:\n",
    "- Tener errores ortográficos, abreviaturas y múltiples formas de decir lo mismo.\n",
    "- Incluir elementos irrelevantes para ciertos análisis (signos de puntuación, stopwords=palabras con poca significancia).\n",
    "- Tener múltiples flexiones, variantes (correr, corriendo, corrí) o sinónimos.\n",
    "\n",
    "Con técnicas de preprocesamiento como las presentadas a continuación es posible trabajar estos problemas y hacer la tarea de entrenamiento más efectiva.\n",
    "- Tokenización: Dividir el texto en listas de palabras o frases.\n",
    "- Lowercasing: Simplificar los texto al pasar todo a minúsculas.\n",
    "- Eliminación de puntuación: Quitar signos que no aportan significado.\n",
    "- Eliminación de stopwords: Retirar palabras muy frecuentes y poco informativas.\n",
    "- Lematización: Reducir palabras a su forma base.\n",
    "- Stemming: Recortar palabras a su raíz.\n",
    "- Normalización de espacios: Eliminar espacios múltiples o saltos de línea.\n",
    "- Eliminación de caracteres especiales: Limpiar símbolos no deseados."
   ]
  },
  {
   "cell_type": "markdown",
   "id": "1ed2dd40",
   "metadata": {},
   "source": [
    "#### **- Explique la diferencia entre un modelo supervisado y uno no supervisado en aprendizaje automático.** <a id='A8'></a> "
   ]
  },
  {
   "cell_type": "markdown",
   "id": "1ad1744e",
   "metadata": {},
   "source": [
    "En machine learning, la diferencia entre un modelo supervisado y uno no supervisado está en sí el entrenamiento se realiza con etiquetas conocidas o sin ellas.\n",
    "\n",
    "**Modelo supervisado**\n",
    "\n",
    "Se entrena con un conjunto de datos que incluye variables de entrada (features) y una variable objetivo (label o target) conocida. Su objetivo es aprender la relación entre entradas y salidas para predecir la etiqueta de nuevos datos. Puede ser de dos tipos basándonos en el tipo de su variable objetivo:\n",
    "\n",
    "- Modelos de clasificación: pretenden predecir una categoría o una variable discreta.\n",
    "\n",
    "- Modelos de regresión: pretenden predecir una variable continua.\n",
    "\n",
    "Algunos algoritmos de entrenamiento usados son:\n",
    "\n",
    "- Regresión lineal.\n",
    "\n",
    "- Árboles de decisión.\n",
    "\n",
    "- Bosques aleatorios.\n",
    "\n",
    "- Descenso del gradiente estocástico.\n",
    "\n",
    "- Redes neuronales convolusionales.\n",
    "\n",
    "**Modelo no supervisado**\n",
    "\n",
    "Se entrena con datos que no tienen etiquetas, es decir, solo se conocen las variables de entrada. Su objetivo es encontrar patrones, estructuras o relaciones ocultas en los datos. El ejemplo más representativo de estos modelos es el clustering, el cual pretende agrupar datos similares en grupos basándose en diferentes algoritmos como K-Means y DBSCAN."
   ]
  },
  {
   "cell_type": "markdown",
   "id": "786e6e3c",
   "metadata": {},
   "source": [
    "#### **- ¿Qué es una consulta SQL JOIN y cuáles son sus tipos principales?** <a id='A9'></a> "
   ]
  },
  {
   "cell_type": "markdown",
   "id": "8e6b9994",
   "metadata": {},
   "source": [
    "Una consulta SQL JOIN se usa para combinar datos de dos o más tablas en una sola consulta, basándose en una columna relacionada entre ellas (generalmente una clave primaria y una clave foránea). Se emplea cuando los datos de interés están distribuidos en múltiples tablas y queremos verlos de forma integrada.\n",
    "\n",
    "| Tipo de JOIN | Descripción |\n",
    "|--------------|-------------|\n",
    "| **INNER JOIN** | Devuelve solo las filas que tienen coincidencia en ambas tablas. |\n",
    "| **LEFT JOIN** | Devuelve todas las filas de la tabla izquierda y las coincidentes de la derecha; si no hay coincidencia, rellena con NULL. |\n",
    "| **RIGHT JOIN** | Devuelve todas las filas de la tabla derecha y las coincidentes de la izquierda; si no hay coincidencia, rellena con NULL. |\n",
    "| **FULL JOIN** | Devuelve todas las filas cuando hay coincidencia en una u otra tabla; donde no haya coincidencia, rellena con NULL. |\n",
    "| **CROSS JOIN** | Devuelve el producto cartesiano: todas las combinaciones posibles de filas entre las tablas. |\n"
   ]
  },
  {
   "cell_type": "markdown",
   "id": "1cdd15b0",
   "metadata": {},
   "source": [
    "#### **- Explique la diferencia entre métodos síncronos y asíncronos en programación.** <a id='A10'></a> "
   ]
  },
  {
   "cell_type": "markdown",
   "id": "c850eccc",
   "metadata": {},
   "source": [
    "En programación, la diferencia entre métodos síncronos y asíncronos está en cómo y cuándo se ejecutan las tareas y si el programa espera su finalización antes de continuar.\n",
    "\n",
    "**Métodos síncronos**\n",
    "\n",
    "El código se ejecuta de forma secuencial. Cada instrucción debe completarse antes de pasar a la siguiente, es decir, que estos métodos bloquean la ejecución hasta que la tarea termina. Pueden provocar que un programa se vuelva lento si una tarea tarda mucho (por ejemplo, esperar respuesta de una API).\n",
    "\n",
    "**Métodos asíncronos**\n",
    "\n",
    "Permiten que el programa no se bloquee mientras una tarea está en ejecución, permitiendo que otras tareas puedan avanzar en paralelo. Se distinguen por el uso de las palabras claves `async` y `await` en Python. Mejoran el rendimiento en aplicaciones que pueden manejar muchas tareas simultáneas.\n",
    "\n",
    "Podemos representar un ejemplo de tarea síncrona en la ejecución del código que ejemplificaba la inyección de dependencias y la programación orientada a objetos. La misma solución de manera asincrónica se vería de la siguiente manera:"
   ]
  },
  {
   "cell_type": "code",
   "execution_count": null,
   "id": "b35218e0",
   "metadata": {},
   "outputs": [
    {
     "name": "stdout",
     "output_type": "stream",
     "text": [
      "Prediction for x=10: 21\n",
      "Prediction for x=20: 41\n",
      "Prediction for x=30: 61\n"
     ]
    }
   ],
   "source": [
    "import asyncio\n",
    "\n",
    "# Example async model\n",
    "class AsyncLinearModel:\n",
    "    def __init__(self, m: float, b: float):\n",
    "        \"\"\"\n",
    "        Class to represent a linear regression model with asynchronous prediction.\n",
    "        Args:\n",
    "            m (float): Slope of the line.\n",
    "            b (float): Intercept of the line.    \n",
    "        \"\"\"\n",
    "        self.m = m  \n",
    "        self.b = b  \n",
    "    \n",
    "    async def predict(self, x: float):  # Define the asynchronous task\n",
    "        \"\"\"\n",
    "        Asynchronous predict for the value of y for a given x.\n",
    "        Args:\n",
    "            x (float): The input value for prediction.\n",
    "        Returns:\n",
    "            float: The predicted output value.\n",
    "        \"\"\"\n",
    "        await asyncio.sleep(3) # Simulate a long computation asynchronous\n",
    "        return 2 * x + 1\n",
    "    \n",
    "    def describe(self):\n",
    "        \"\"\"\n",
    "        Returns a string description of the model.\n",
    "        Returns:\n",
    "            string: Description of the linear regression model.\n",
    "        \"\"\"\n",
    "        return f\"Model of async linear regression: y = {self.m}x + {self.b}\"\n",
    "\n",
    "\n",
    "# Service using async dependency injection\n",
    "class AsyncPredictionService:\n",
    "    def __init__(self, model: AsyncLinearModel):\n",
    "        \"\"\"\n",
    "        Initializes the PredictionService with an asynchronous model.\n",
    "        Args:\n",
    "            model (AsyncLinearModel): An object AsyncLinearModel implementing async 'predict' and 'describe'.\n",
    "        \"\"\"\n",
    "        self.model = model\n",
    "\n",
    "    async def make_prediction(self, x: float):\n",
    "        \"\"\"\n",
    "        Makes an asynchronous prediction using the injected model.\n",
    "        Args:\n",
    "            x (float): The input value for prediction.\n",
    "        Returns:\n",
    "            float: The predicted output value.\n",
    "        \"\"\"\n",
    "        return await self.model.predict(x)\n",
    "\n",
    "async def run_predictive_service_async(service: AsyncPredictionService, entry_value: float):\n",
    "    \"\"\"\n",
    "    Runs a predictive service asynchronously.\n",
    "    Args:\n",
    "        service (AsyncPredictionService): The service used to make the prediction.\n",
    "        entry_value (float): The input value to be predicted.\n",
    "    Returns:\n",
    "        result (float): The service's predicted value.\n",
    "    \"\"\"\n",
    "    result = await service.make_prediction(entry_value)\n",
    "    print(f\"Prediction for x={entry_value}: {result}\")\n",
    "    return result\n",
    "\n",
    "\n",
    "# Define the new asynchronous model and service\n",
    "async_model = AsyncLinearModel(m=5, b=-9)\n",
    "async_service = AsyncPredictionService(model=async_model)\n",
    "\n",
    "# Run multiple predictions in parallel\n",
    "predictions_group = await asyncio.gather(\n",
    "    run_predictive_service_async(async_service, 10),\n",
    "    run_predictive_service_async(async_service, 20),\n",
    "    run_predictive_service_async(async_service, 30)\n",
    ")"
   ]
  },
  {
   "cell_type": "markdown",
   "id": "c169cbc3",
   "metadata": {},
   "source": [
    "## B. Preguntas Prácticas. <a id='B'></a> \n"
   ]
  },
  {
   "cell_type": "markdown",
   "id": "262c2914",
   "metadata": {},
   "source": [
    "### 1. Programación en Python (nivel avanzado) <a id='B1'></a> "
   ]
  },
  {
   "cell_type": "markdown",
   "id": "6f5f3858",
   "metadata": {},
   "source": [
    "#### **- Escriba una función en Python que reciba una lista de cadenas y devuelva un diccionario con la frecuencia de cada palabra ignorando mayúsculas y signos de puntuación.** <a id='B1-1'></a> "
   ]
  },
  {
   "cell_type": "markdown",
   "id": "3bfcec81",
   "metadata": {},
   "source": [
    "Este es un proceso común utilizado en el preprocesamiento de textos para introducirlos a modelos de machine learning. Una forma práctica para realizar esta tarea es a través de la función `CountVectorizer` del módulo `feature_extraction.text` en la librería sklearn."
   ]
  },
  {
   "cell_type": "code",
   "execution_count": 42,
   "id": "00779f93",
   "metadata": {},
   "outputs": [],
   "source": [
    "from sklearn.feature_extraction.text import CountVectorizer\n",
    "\n",
    "def word_frequency_sklearn(text_list):\n",
    "    \"\"\"\n",
    "    Calculates the frequency of each word from a list of strings \n",
    "    using scikit-learn's CountVectorizer.\n",
    "    Ignores case and punctuation automatically.\n",
    "    Args:\n",
    "        text_list (list[str]): List of strings to analyze.\n",
    "    Returns:\n",
    "        dict: Dictionary where keys are words (in lowercase)\n",
    "              and values are their frequency count.\n",
    "    \"\"\"\n",
    "    # Initialize CountVectorizer: lowercase, ignore punctuation\n",
    "    vectorizer = CountVectorizer(lowercase=True)\n",
    "    \n",
    "    # Fit and transform text\n",
    "    X = vectorizer.fit_transform(text_list)\n",
    "\n",
    "    # Get words and their counts\n",
    "    words = vectorizer.get_feature_names_out()\n",
    "    counts = X.toarray().sum(axis=0).ravel().tolist()\n",
    "    \n",
    "    return dict(zip(words, counts))"
   ]
  },
  {
   "cell_type": "code",
   "execution_count": 43,
   "id": "72be7198",
   "metadata": {},
   "outputs": [
    {
     "name": "stdout",
     "output_type": "stream",
     "text": [
      "{'again': 1, 'beautiful': 1, 'hello': 2, 'is': 1, 'the': 1, 'world': 3}\n"
     ]
    }
   ],
   "source": [
    "# Test 1\n",
    "sentences_1 = [\n",
    "    \"Hello world!\",\n",
    "    \"The world is beautiful.\",\n",
    "    \"HELLO again, world.\"\n",
    "]\n",
    "\n",
    "result_1 = word_frequency_sklearn(sentences_1)\n",
    "print(result_1)"
   ]
  },
  {
   "cell_type": "code",
   "execution_count": 44,
   "id": "27a8d82f",
   "metadata": {},
   "outputs": [
    {
     "name": "stdout",
     "output_type": "stream",
     "text": [
      "{'asombroso': 1, 'así': 1, 'años': 1, 'ciencia': 2, 'como': 2, 'complejo': 1, 'conocemos': 1, 'de': 4, 'del': 1, 'desde': 1, 'es': 3, 'esta': 1, 'estudia': 2, 'evolución': 1, 'experimenta': 1, 'fenómeno': 1, 'fundamentales': 1, 'física': 1, 'galaxias': 1, 'grandes': 1, 'hasta': 1, 'la': 7, 'las': 4, 'leyes': 1, 'materia': 1, 'miles': 1, 'millones': 1, 'más': 2, 'partículas': 1, 'pequeñas': 1, 'propiedades': 1, 'que': 3, 'química': 1, 'resultado': 1, 'sus': 1, 'tal': 1, 'transformaciones': 1, 'un': 1, 'universo': 1, 'vida': 1}\n"
     ]
    }
   ],
   "source": [
    "# Test 2\n",
    "sentences_2 = [\n",
    "    \"La vida, tal como la conocemos, es un fenómeno asombroso y complejo, resultado de miles de millones de años de evolución.\",\n",
    "    \"La física es la ciencia que estudia las leyes fundamentales del universo, desde las partículas más pequeñas hasta las galaxias más grandes.\",\n",
    "    \"La química es la ciencia que estudia la materia y sus propiedades, así como las transformaciones que esta experimenta.\"\n",
    "]\n",
    "\n",
    "result_2 = word_frequency_sklearn(sentences_2)\n",
    "print(result_2)"
   ]
  },
  {
   "cell_type": "markdown",
   "id": "8fdca685",
   "metadata": {},
   "source": [
    "#### **- Implemente un decorador en Python que mida y muestre el tiempo de ejecución de una función.** <a id='B1-2'></a> "
   ]
  },
  {
   "cell_type": "code",
   "execution_count": 45,
   "id": "6349cdb3",
   "metadata": {},
   "outputs": [],
   "source": [
    "import time\n",
    "\n",
    "def count_seconds(func):\n",
    "    \"\"\"\n",
    "    Decorator that counts the time taken for a function to execute.\n",
    "    Args:\n",
    "        func (function): The function to be decorated.\n",
    "    Returns:\n",
    "        function: The wrapped function with time counting.\n",
    "    \"\"\"\n",
    "    def inner(*args, **kwargs):\n",
    "        start = time.time()\n",
    "        result = func(*args, **kwargs)\n",
    "        end = time.time()\n",
    "        print(f\"Time taken for {func.__name__}: {end - start:.2f} seconds\")\n",
    "        return result\n",
    "    return inner"
   ]
  },
  {
   "cell_type": "code",
   "execution_count": null,
   "id": "416afdd5",
   "metadata": {},
   "outputs": [
    {
     "name": "stdout",
     "output_type": "stream",
     "text": [
      "Model of linear regression: y = 4x + 3\n",
      "Prediction for x=40: 163\n",
      "Time taken for run_predictive_service_time_count: 3.00 seconds\n"
     ]
    }
   ],
   "source": [
    "#Test\n",
    "@count_seconds\n",
    "def run_predictive_service_time_count(service: PredictionService, entry_value: float):\n",
    "    \"\"\"\n",
    "    Runs a predictive service and counts its execution time.\n",
    "    \"\"\"\n",
    "    result = service.make_prediction(entry_value)\n",
    "    time.sleep(3)\n",
    "    print(f\"Prediction for x={entry_value}: {result}\")\n",
    "    return result\n",
    "\n",
    "predictions_3 = run_predictive_service_time_count(main_service, 40)"
   ]
  },
  {
   "cell_type": "markdown",
   "id": "cc9da7dc",
   "metadata": {},
   "source": [
    "#### **- Dado un dataframe de pandas con columnas 'fecha' y 'ventas', escriba código para calcular el promedio móvil de ventas en una ventana de 7 días.** <a id='B1-3'></a> "
   ]
  },
  {
   "cell_type": "code",
   "execution_count": 3,
   "id": "852428ef",
   "metadata": {},
   "outputs": [],
   "source": [
    "import pandas as pd\n",
    "\n",
    "def calculate_sma(time_series, *series, period):\n",
    "    \"\"\"\n",
    "    Calculates the Simple Moving Average (SMA) for one or more series.\n",
    "    \n",
    "    Args:\n",
    "        time_series (list | pd.Series): List or pandas Series of dates.\n",
    "        *series (list | pd.Series): One or more value series to calculate SMA for.\n",
    "        period (int): Window size for the moving average.\n",
    "\n",
    "    Returns:\n",
    "        pd.DataFrame: DataFrame containing the time series and SMA for each input series.\n",
    "    \"\"\"\n",
    "    # Create a base DataFrame\n",
    "    df = pd.DataFrame({'date': pd.to_datetime(time_series)})\n",
    "\n",
    "    # Add each series to the DataFrame and calculate its SMA\n",
    "    for idx, values in enumerate(series, start=1):\n",
    "        col_name = f\"serie_{idx}\"\n",
    "        sma_name = f\"SMA_{period}_serie_{idx}\"\n",
    "        \n",
    "        df[col_name] = values\n",
    "        df[sma_name] = df[col_name].rolling(window=period).mean()\n",
    "\n",
    "    return df"
   ]
  },
  {
   "cell_type": "code",
   "execution_count": 4,
   "id": "428e46ba",
   "metadata": {},
   "outputs": [
    {
     "data": {
      "application/vnd.microsoft.datawrangler.viewer.v0+json": {
       "columns": [
        {
         "name": "index",
         "rawType": "int64",
         "type": "integer"
        },
        {
         "name": "fecha",
         "rawType": "datetime64[ns]",
         "type": "datetime"
        },
        {
         "name": "ventas",
         "rawType": "int32",
         "type": "integer"
        },
        {
         "name": "SMA_7_ventas",
         "rawType": "float64",
         "type": "float"
        }
       ],
       "ref": "c9bdc73c-3a22-4358-b3fc-d9a20477617f",
       "rows": [
        [
         "20",
         "2025-07-21 00:00:00",
         "74",
         "53.857142857142854"
        ],
        [
         "21",
         "2025-07-22 00:00:00",
         "56",
         "60.142857142857146"
        ],
        [
         "22",
         "2025-07-23 00:00:00",
         "75",
         "59.57142857142857"
        ],
        [
         "23",
         "2025-07-24 00:00:00",
         "70",
         "62.42857142857143"
        ],
        [
         "24",
         "2025-07-25 00:00:00",
         "44",
         "65.0"
        ],
        [
         "25",
         "2025-07-26 00:00:00",
         "26",
         "60.57142857142857"
        ],
        [
         "26",
         "2025-07-27 00:00:00",
         "43",
         "55.42857142857143"
        ],
        [
         "27",
         "2025-07-28 00:00:00",
         "48",
         "51.714285714285715"
        ],
        [
         "28",
         "2025-07-29 00:00:00",
         "64",
         "52.857142857142854"
        ],
        [
         "29",
         "2025-07-30 00:00:00",
         "21",
         "45.142857142857146"
        ]
       ],
       "shape": {
        "columns": 3,
        "rows": 10
       }
      },
      "text/html": [
       "<div>\n",
       "<style scoped>\n",
       "    .dataframe tbody tr th:only-of-type {\n",
       "        vertical-align: middle;\n",
       "    }\n",
       "\n",
       "    .dataframe tbody tr th {\n",
       "        vertical-align: top;\n",
       "    }\n",
       "\n",
       "    .dataframe thead th {\n",
       "        text-align: right;\n",
       "    }\n",
       "</style>\n",
       "<table border=\"1\" class=\"dataframe\">\n",
       "  <thead>\n",
       "    <tr style=\"text-align: right;\">\n",
       "      <th></th>\n",
       "      <th>fecha</th>\n",
       "      <th>ventas</th>\n",
       "      <th>SMA_7_ventas</th>\n",
       "    </tr>\n",
       "  </thead>\n",
       "  <tbody>\n",
       "    <tr>\n",
       "      <th>20</th>\n",
       "      <td>2025-07-21</td>\n",
       "      <td>74</td>\n",
       "      <td>53.857143</td>\n",
       "    </tr>\n",
       "    <tr>\n",
       "      <th>21</th>\n",
       "      <td>2025-07-22</td>\n",
       "      <td>56</td>\n",
       "      <td>60.142857</td>\n",
       "    </tr>\n",
       "    <tr>\n",
       "      <th>22</th>\n",
       "      <td>2025-07-23</td>\n",
       "      <td>75</td>\n",
       "      <td>59.571429</td>\n",
       "    </tr>\n",
       "    <tr>\n",
       "      <th>23</th>\n",
       "      <td>2025-07-24</td>\n",
       "      <td>70</td>\n",
       "      <td>62.428571</td>\n",
       "    </tr>\n",
       "    <tr>\n",
       "      <th>24</th>\n",
       "      <td>2025-07-25</td>\n",
       "      <td>44</td>\n",
       "      <td>65.000000</td>\n",
       "    </tr>\n",
       "    <tr>\n",
       "      <th>25</th>\n",
       "      <td>2025-07-26</td>\n",
       "      <td>26</td>\n",
       "      <td>60.571429</td>\n",
       "    </tr>\n",
       "    <tr>\n",
       "      <th>26</th>\n",
       "      <td>2025-07-27</td>\n",
       "      <td>43</td>\n",
       "      <td>55.428571</td>\n",
       "    </tr>\n",
       "    <tr>\n",
       "      <th>27</th>\n",
       "      <td>2025-07-28</td>\n",
       "      <td>48</td>\n",
       "      <td>51.714286</td>\n",
       "    </tr>\n",
       "    <tr>\n",
       "      <th>28</th>\n",
       "      <td>2025-07-29</td>\n",
       "      <td>64</td>\n",
       "      <td>52.857143</td>\n",
       "    </tr>\n",
       "    <tr>\n",
       "      <th>29</th>\n",
       "      <td>2025-07-30</td>\n",
       "      <td>21</td>\n",
       "      <td>45.142857</td>\n",
       "    </tr>\n",
       "  </tbody>\n",
       "</table>\n",
       "</div>"
      ],
      "text/plain": [
       "        fecha  ventas  SMA_7_ventas\n",
       "20 2025-07-21      74     53.857143\n",
       "21 2025-07-22      56     60.142857\n",
       "22 2025-07-23      75     59.571429\n",
       "23 2025-07-24      70     62.428571\n",
       "24 2025-07-25      44     65.000000\n",
       "25 2025-07-26      26     60.571429\n",
       "26 2025-07-27      43     55.428571\n",
       "27 2025-07-28      48     51.714286\n",
       "28 2025-07-29      64     52.857143\n",
       "29 2025-07-30      21     45.142857"
      ]
     },
     "execution_count": 4,
     "metadata": {},
     "output_type": "execute_result"
    }
   ],
   "source": [
    "import numpy as np\n",
    "\n",
    "# Test\n",
    "fecha = pd.date_range(start='2025-07-01', periods=30, freq='D')\n",
    "ventas = np.random.randint(10, 81, size=30)\n",
    "\n",
    "results = calculate_sma(fecha, ventas, period=7)\n",
    "results.columns = ['fecha', 'ventas', 'SMA_7_ventas']\n",
    "\n",
    "results.tail(10)"
   ]
  },
  {
   "cell_type": "markdown",
   "id": "18f9f019",
   "metadata": {},
   "source": [
    "### 2. Protocolos de Comunicación (APIs). <a id='B2'></a> \n"
   ]
  },
  {
   "cell_type": "markdown",
   "id": "45c9a20a",
   "metadata": {},
   "source": [
    "#### **- Explique cómo funciona el método HTTP POST y cuándo se utiliza en una API REST.** <a id='B2-1'></a> "
   ]
  },
  {
   "cell_type": "markdown",
   "id": "76d5d297",
   "metadata": {},
   "source": [
    "El método HTTP POST es uno de los métodos más utilizados en APIs REST y se emplea principalmente para enviar datos al servidor con el objetivo de crear o procesar un recurso. El orden del proceso se puede explicar a través de los siguientes pasos:\n",
    "\n",
    "1. El cliente envía una solicitud POST a la URL del recurso.\n",
    "\n",
    "2. Los datos se incluyen en el cuerpo (body) de la solicitud, normalmente en formatos como JSON o XML.\n",
    "\n",
    "3. El servidor recibe y procesa esos datos.\n",
    "\n",
    "4. El servidor responde normalmente con un código que representa el resultado, por ejemplo, código 200 OK si se procesó correctamente."
   ]
  },
  {
   "cell_type": "code",
   "execution_count": null,
   "id": "bda86832",
   "metadata": {},
   "outputs": [],
   "source": [
    "from flask import Flask, jsonify, request\n",
    "from flask_cors import CORS\n",
    "\n",
    "app = Flask(__name__)\n",
    "CORS(app, origins=['http://172.236.62.105:4173'])\n",
    "\n",
    "# Route to update the current date.\n",
    "@app.route('/update-date', methods=['POST'])\n",
    "def update_date():\n",
    "    \n",
    "    data = request.get_json()\n",
    "    current_date = data.get(\"date\")\n",
    "    return jsonify({\"message\": \"Date updated successfully\"}), 200"
   ]
  },
  {
   "cell_type": "code",
   "execution_count": null,
   "id": "0ab9feac",
   "metadata": {},
   "outputs": [],
   "source": []
  },
  {
   "cell_type": "markdown",
   "id": "12fecdaa",
   "metadata": {},
   "source": [
    "#### **- En Python, ¿cómo se puede realizar una solicitud GET a una API y manejar una respuesta en formato JSON? Escriba un ejemplo básico.** <a id='B2-2'></a>"
   ]
  },
  {
   "cell_type": "code",
   "execution_count": null,
   "id": "213b616e",
   "metadata": {},
   "outputs": [],
   "source": []
  },
  {
   "cell_type": "markdown",
   "id": "6343e590",
   "metadata": {},
   "source": [
    "#### **- Mencione y explique tres buenas prácticas de seguridad que se deben considerar al desarrollar o consumir APIs.** <a id='B2-3'></a>"
   ]
  },
  {
   "cell_type": "code",
   "execution_count": null,
   "id": "ea110efb",
   "metadata": {},
   "outputs": [],
   "source": []
  },
  {
   "cell_type": "markdown",
   "id": "71719421",
   "metadata": {},
   "source": [
    "### 3. Manipulación de Texto (NLP). <a id='B3'></a>"
   ]
  },
  {
   "cell_type": "markdown",
   "id": "c9e3f2fb",
   "metadata": {},
   "source": [
    "#### **- Describa cómo funciona la tokenización en el procesamiento de lenguaje natural y mencione una librería en Python que la implemente.** <a id='B3-1'></a>"
   ]
  },
  {
   "cell_type": "code",
   "execution_count": null,
   "id": "bd685cc5",
   "metadata": {},
   "outputs": [],
   "source": []
  },
  {
   "cell_type": "markdown",
   "id": "7d88f31e",
   "metadata": {},
   "source": [
    "#### **- Explique qué es el \"stemming\" y cómo se diferencia del \"lemmatization\".** <a id='B3-2'></a>"
   ]
  },
  {
   "cell_type": "code",
   "execution_count": null,
   "id": "f75f0fba",
   "metadata": {},
   "outputs": [],
   "source": []
  },
  {
   "cell_type": "markdown",
   "id": "478758e2",
   "metadata": {},
   "source": [
    "#### **- Escriba un fragmento de código en Python que elimine stopwords de un texto dado.** <a id='B3-3'></a>"
   ]
  },
  {
   "cell_type": "code",
   "execution_count": null,
   "id": "e8173404",
   "metadata": {},
   "outputs": [],
   "source": []
  },
  {
   "cell_type": "markdown",
   "id": "4efb1f69",
   "metadata": {},
   "source": [
    "#### **- Explique cómo los modelos generativos (GenAI) como GPT pueden ser utilizados para tareas de NLP, y mencione uno o dos casos de uso prácticos en la industria.** <a id='B3-4'></a>"
   ]
  },
  {
   "cell_type": "code",
   "execution_count": null,
   "id": "b12f40c0",
   "metadata": {},
   "outputs": [],
   "source": []
  },
  {
   "cell_type": "markdown",
   "id": "8e287bd3",
   "metadata": {},
   "source": [
    "### 4. Manipulación de Datos y Consultas SQL (nivel intermedio-avanzado). <a id='B4'></a>"
   ]
  },
  {
   "cell_type": "markdown",
   "id": "85ecd69e",
   "metadata": {},
   "source": [
    "#### **- Escriba una consulta SQL que utilice una subconsulta correlacionada para obtener, de una tabla 'ventas', los productos cuyo monto de ventas sea superior al promedio mensual de ventas de todos los productos.** <a id='B4-1'></a>"
   ]
  },
  {
   "cell_type": "code",
   "execution_count": null,
   "id": "45bb5c1d",
   "metadata": {},
   "outputs": [],
   "source": []
  },
  {
   "cell_type": "markdown",
   "id": "7342376e",
   "metadata": {},
   "source": [
    "#### **- Explique cómo funcionan los índices compuestos en bases de datos y cómo afectan el rendimiento de consultas con múltiples condiciones.** <a id='B4-2'></a>"
   ]
  },
  {
   "cell_type": "code",
   "execution_count": null,
   "id": "7a3133c0",
   "metadata": {},
   "outputs": [],
   "source": []
  },
  {
   "cell_type": "markdown",
   "id": "8b235aa8",
   "metadata": {},
   "source": [
    "#### **- Escriba una consulta SQL que utilice funciones ventana (window functions) para calcular el ranking mensual de ventas por producto en una tabla 'ventas'.** <a id='B4-3'></a>"
   ]
  },
  {
   "cell_type": "code",
   "execution_count": null,
   "id": "64db4293",
   "metadata": {},
   "outputs": [],
   "source": []
  }
 ],
 "metadata": {
  "kernelspec": {
   "display_name": "Python 3",
   "language": "python",
   "name": "python3"
  },
  "language_info": {
   "codemirror_mode": {
    "name": "ipython",
    "version": 3
   },
   "file_extension": ".py",
   "mimetype": "text/x-python",
   "name": "python",
   "nbconvert_exporter": "python",
   "pygments_lexer": "ipython3",
   "version": "3.12.8"
  }
 },
 "nbformat": 4,
 "nbformat_minor": 5
}
